{
 "cells": [
  {
   "cell_type": "code",
   "execution_count": 0,
   "metadata": {
    "application/vnd.databricks.v1+cell": {
     "cellMetadata": {},
     "inputWidgets": {},
     "nuid": "e408a72a-90ca-4dfb-9561-db94190b9abf",
     "showTitle": false,
     "title": ""
    }
   },
   "outputs": [],
   "source": [
    "# dbutils.fs.mount(\n",
    "#   source = \"wasbs://<container-name>@<storage-account-name>.blob.core.windows.net\",\n",
    "#   mount_point = \"/mnt/iotdata\",\n",
    "#   extra_configs = {\"fs.azure.account.key.<storage-account-name>.blob.core.windows.net\":dbutils.secrets.get(scope = \"<scope-name>\", key = \"<key-name>\")})"
   ]
  },
  {
   "cell_type": "code",
   "execution_count": 0,
   "metadata": {
    "application/vnd.databricks.v1+cell": {
     "cellMetadata": {
      "byteLimit": 2048000,
      "rowLimit": 10000
     },
     "inputWidgets": {},
     "nuid": "78df2ca7-7ecb-48cc-808e-d1706d77a7c7",
     "showTitle": false,
     "title": ""
    }
   },
   "outputs": [
    {
     "output_type": "display_data",
     "data": {
      "text/plain": [
       "\u001B[0;31m---------------------------------------------------------------------------\u001B[0m\n",
       "\u001B[0;31mExecutionError\u001B[0m                            Traceback (most recent call last)\n",
       "File \u001B[0;32m<command-1560701934220911>:1\u001B[0m\n",
       "\u001B[0;32m----> 1\u001B[0m \u001B[43mdbutils\u001B[49m\u001B[38;5;241;43m.\u001B[39;49m\u001B[43mfs\u001B[49m\u001B[38;5;241;43m.\u001B[39;49m\u001B[43mmount\u001B[49m\u001B[43m(\u001B[49m\n",
       "\u001B[1;32m      2\u001B[0m \u001B[43msource\u001B[49m\u001B[43m \u001B[49m\u001B[38;5;241;43m=\u001B[39;49m\u001B[43m \u001B[49m\u001B[38;5;124;43m\"\u001B[39;49m\u001B[38;5;124;43mwasbs://tokyodata@tokyostoarge.blob.core.windows.net\u001B[39;49m\u001B[38;5;124;43m\"\u001B[39;49m\u001B[43m,\u001B[49m\u001B[43m \u001B[49m\u001B[38;5;66;43;03m# contrainer@storageacc\u001B[39;49;00m\n",
       "\u001B[1;32m      3\u001B[0m \u001B[43mmount_point\u001B[49m\u001B[43m \u001B[49m\u001B[38;5;241;43m=\u001B[39;49m\u001B[43m \u001B[49m\u001B[38;5;124;43m\"\u001B[39;49m\u001B[38;5;124;43m/mnt/tokyo_olymic\u001B[39;49m\u001B[38;5;124;43m\"\u001B[39;49m\u001B[43m,\u001B[49m\n",
       "\u001B[1;32m      4\u001B[0m \u001B[43mextra_configs\u001B[49m\u001B[43m \u001B[49m\u001B[38;5;241;43m=\u001B[39;49m\u001B[43m \u001B[49m\u001B[43m{\u001B[49m\u001B[38;5;124;43m\"\u001B[39;49m\u001B[38;5;124;43mfs.azure.account.key.tokyostoarge.blob.core.windows.net\u001B[39;49m\u001B[38;5;124;43m\"\u001B[39;49m\u001B[43m:\u001B[49m\u001B[38;5;124;43m\"\u001B[39;49m\u001B[38;5;124;43msk7hK1X3dHoLlmLE3WvTPlTYyoVNhBQa3dBQ9PIxGUoFAgliJz9haIJHJ+F/QD+nGk7Tk8rPMW0q+AStSbRTAw==\u001B[39;49m\u001B[38;5;124;43m\"\u001B[39;49m\u001B[43m}\u001B[49m\u001B[43m)\u001B[49m\n",
       "\n",
       "File \u001B[0;32m/databricks/python_shell/dbruntime/dbutils.py:362\u001B[0m, in \u001B[0;36mDBUtils.FSHandler.prettify_exception_message.<locals>.f_with_exception_handling\u001B[0;34m(*args, **kwargs)\u001B[0m\n",
       "\u001B[1;32m    360\u001B[0m exc\u001B[38;5;241m.\u001B[39m__context__ \u001B[38;5;241m=\u001B[39m \u001B[38;5;28;01mNone\u001B[39;00m\n",
       "\u001B[1;32m    361\u001B[0m exc\u001B[38;5;241m.\u001B[39m__cause__ \u001B[38;5;241m=\u001B[39m \u001B[38;5;28;01mNone\u001B[39;00m\n",
       "\u001B[0;32m--> 362\u001B[0m \u001B[38;5;28;01mraise\u001B[39;00m exc\n",
       "\n",
       "\u001B[0;31mExecutionError\u001B[0m: An error occurred while calling o397.mount.\n",
       ": java.rmi.RemoteException: java.lang.IllegalArgumentException: requirement failed: Directory already mounted: /mnt/tokyo_olymic; nested exception is: \n",
       "\tjava.lang.IllegalArgumentException: requirement failed: Directory already mounted: /mnt/tokyo_olymic\n",
       "\tat com.databricks.backend.daemon.data.client.DbfsClient.send0(DbfsClient.scala:135)\n",
       "\tat com.databricks.backend.daemon.data.client.DbfsClient.sendIdempotent(DbfsClient.scala:69)\n",
       "\tat com.databricks.backend.daemon.dbutils.DBUtilsCore.createOrUpdateMount(DBUtilsCore.scala:1029)\n",
       "\tat com.databricks.backend.daemon.dbutils.DBUtilsCore.$anonfun$mount$1(DBUtilsCore.scala:1055)\n",
       "\tat com.databricks.logging.UsageLogging.$anonfun$recordOperation$1(UsageLogging.scala:560)\n",
       "\tat com.databricks.logging.UsageLogging.executeThunkAndCaptureResultTags$1(UsageLogging.scala:656)\n",
       "\tat com.databricks.logging.UsageLogging.$anonfun$recordOperationWithResultTags$4(UsageLogging.scala:677)\n",
       "\tat com.databricks.logging.UsageLogging.$anonfun$withAttributionContext$1(UsageLogging.scala:414)\n",
       "\tat scala.util.DynamicVariable.withValue(DynamicVariable.scala:62)\n",
       "\tat com.databricks.logging.AttributionContext$.withValue(AttributionContext.scala:158)\n",
       "\tat com.databricks.logging.UsageLogging.withAttributionContext(UsageLogging.scala:412)\n",
       "\tat com.databricks.logging.UsageLogging.withAttributionContext$(UsageLogging.scala:409)\n",
       "\tat com.databricks.backend.daemon.dbutils.FSUtils.withAttributionContext(DBUtilsCore.scala:69)\n",
       "\tat com.databricks.logging.UsageLogging.withAttributionTags(UsageLogging.scala:457)\n",
       "\tat com.databricks.logging.UsageLogging.withAttributionTags$(UsageLogging.scala:442)\n",
       "\tat com.databricks.backend.daemon.dbutils.FSUtils.withAttributionTags(DBUtilsCore.scala:69)\n",
       "\tat com.databricks.logging.UsageLogging.recordOperationWithResultTags(UsageLogging.scala:651)\n",
       "\tat com.databricks.logging.UsageLogging.recordOperationWithResultTags$(UsageLogging.scala:569)\n",
       "\tat com.databricks.backend.daemon.dbutils.FSUtils.recordOperationWithResultTags(DBUtilsCore.scala:69)\n",
       "\tat com.databricks.logging.UsageLogging.recordOperation(UsageLogging.scala:560)\n",
       "\tat com.databricks.logging.UsageLogging.recordOperation$(UsageLogging.scala:528)\n",
       "\tat com.databricks.backend.daemon.dbutils.FSUtils.recordOperation(DBUtilsCore.scala:69)\n",
       "\tat com.databricks.backend.daemon.dbutils.FSUtils.recordDbutilsFsOp(DBUtilsCore.scala:133)\n",
       "\tat com.databricks.backend.daemon.dbutils.DBUtilsCore.mount(DBUtilsCore.scala:1049)\n",
       "\tat sun.reflect.NativeMethodAccessorImpl.invoke0(Native Method)\n",
       "\tat sun.reflect.NativeMethodAccessorImpl.invoke(NativeMethodAccessorImpl.java:62)\n",
       "\tat sun.reflect.DelegatingMethodAccessorImpl.invoke(DelegatingMethodAccessorImpl.java:43)\n",
       "\tat java.lang.reflect.Method.invoke(Method.java:498)\n",
       "\tat py4j.reflection.MethodInvoker.invoke(MethodInvoker.java:244)\n",
       "\tat py4j.reflection.ReflectionEngine.invoke(ReflectionEngine.java:380)\n",
       "\tat py4j.Gateway.invoke(Gateway.java:306)\n",
       "\tat py4j.commands.AbstractCommand.invokeMethod(AbstractCommand.java:132)\n",
       "\tat py4j.commands.CallCommand.execute(CallCommand.java:79)\n",
       "\tat py4j.ClientServerConnection.waitForCommands(ClientServerConnection.java:195)\n",
       "\tat py4j.ClientServerConnection.run(ClientServerConnection.java:115)\n",
       "\tat java.lang.Thread.run(Thread.java:750)\n",
       "Caused by: java.lang.IllegalArgumentException: requirement failed: Directory already mounted: /mnt/tokyo_olymic\n",
       "\tat scala.Predef$.require(Predef.scala:281)\n",
       "\tat com.databricks.backend.daemon.data.server.DefaultMetadataManager.$anonfun$insertMount$1(MetadataManager.scala:692)\n",
       "\tat com.databricks.backend.daemon.data.server.DefaultMetadataManager.$anonfun$modifyAndVerify$2(MetadataManager.scala:1068)\n",
       "\tat scala.runtime.java8.JFunction0$mcV$sp.apply(JFunction0$mcV$sp.java:23)\n",
       "\tat com.databricks.backend.daemon.data.server.DefaultMetadataManager.withRetries(MetadataManager.scala:841)\n",
       "\tat com.databricks.backend.daemon.data.server.DefaultMetadataManager.modifyAndVerify(MetadataManager.scala:1057)\n",
       "\tat com.databricks.backend.daemon.data.server.DefaultMetadataManager.insertMount(MetadataManager.scala:700)\n",
       "\tat com.databricks.backend.daemon.data.server.handler.MountHandler.receive(MountHandler.scala:128)\n",
       "\tat com.databricks.backend.daemon.data.server.handler.CEMountHandler.receive(MountHandler.scala:172)\n",
       "\tat com.databricks.backend.daemon.data.server.session.SessionContext.$anonfun$queryHandlers$1(SessionContext.scala:54)\n",
       "\tat com.databricks.backend.daemon.data.server.session.SessionContext.$anonfun$queryHandlers$1$adapted(SessionContext.scala:53)\n",
       "\tat scala.collection.immutable.List.foreach(List.scala:431)\n",
       "\tat com.databricks.backend.daemon.data.server.session.SessionContext.queryHandlers(SessionContext.scala:53)\n",
       "\tat com.databricks.backend.daemon.data.server.DbfsServerBackend$$anonfun$receive$4.$anonfun$applyOrElse$9(DbfsServerBackend.scala:387)\n",
       "\tat com.databricks.logging.UsageLogging.$anonfun$withAttributionContext$1(UsageLogging.scala:426)\n",
       "\tat scala.util.DynamicVariable.withValue(DynamicVariable.scala:62)\n",
       "\tat com.databricks.logging.AttributionContext$.withValue(AttributionContext.scala:216)\n",
       "\tat com.databricks.logging.UsageLogging.withAttributionContext(UsageLogging.scala:424)\n",
       "\tat com.databricks.logging.UsageLogging.withAttributionContext$(UsageLogging.scala:418)\n",
       "\tat com.databricks.rpc.ServerBackend.withAttributionContext(ServerBackend.scala:22)\n",
       "\tat com.databricks.logging.UsageLogging.withAttributionTags(UsageLogging.scala:472)\n",
       "\tat com.databricks.logging.UsageLogging.withAttributionTags$(UsageLogging.scala:455)\n",
       "\tat com.databricks.rpc.ServerBackend.withAttributionTags(ServerBackend.scala:22)\n",
       "\tat com.databricks.backend.daemon.data.server.DbfsServerBackend$$anonfun$receive$4.applyOrElse(DbfsServerBackend.scala:387)\n",
       "\tat com.databricks.backend.daemon.data.server.DbfsServerBackend$$anonfun$receive$4.applyOrElse(DbfsServerBackend.scala:327)\n",
       "\tat com.databricks.rpc.ServerBackend.$anonfun$internalReceive0$2(ServerBackend.scala:174)\n",
       "\tat com.databricks.rpc.ServerBackend$$anonfun$commonReceive$1.applyOrElse(ServerBackend.scala:200)\n",
       "\tat com.databricks.rpc.ServerBackend$$anonfun$commonReceive$1.applyOrElse(ServerBackend.scala:200)\n",
       "\tat com.databricks.rpc.ServerBackend.internalReceive0(ServerBackend.scala:171)\n",
       "\tat com.databricks.rpc.ServerBackend.$anonfun$internalReceive$1(ServerBackend.scala:147)\n",
       "\tat com.databricks.logging.UsageLogging.$anonfun$recordOperation$1(UsageLogging.scala:573)\n",
       "\tat com.databricks.logging.UsageLogging.executeThunkAndCaptureResultTags$1(UsageLogging.scala:676)\n",
       "\tat com.databricks.logging.UsageLogging.$anonfun$recordOperationWithResultTags$4(UsageLogging.scala:694)\n",
       "\tat com.databricks.logging.UsageLogging.$anonfun$withAttributionContext$1(UsageLogging.scala:426)\n",
       "\tat scala.util.DynamicVariable.withValue(DynamicVariable.scala:62)\n",
       "\tat com.databricks.logging.AttributionContext$.withValue(AttributionContext.scala:216)\n",
       "\tat com.databricks.logging.UsageLogging.withAttributionContext(UsageLogging.scala:424)\n",
       "\tat com.databricks.logging.UsageLogging.withAttributionContext$(UsageLogging.scala:418)\n",
       "\tat com.databricks.rpc.ServerBackend.withAttributionContext(ServerBackend.scala:22)\n",
       "\tat com.databricks.logging.UsageLogging.withAttributionTags(UsageLogging.scala:472)\n",
       "\tat com.databricks.logging.UsageLogging.withAttributionTags$(UsageLogging.scala:455)\n",
       "\tat com.databricks.rpc.ServerBackend.withAttributionTags(ServerBackend.scala:22)\n",
       "\tat com.databricks.logging.UsageLogging.recordOperationWithResultTags(UsageLogging.scala:671)\n",
       "\tat com.databricks.logging.UsageLogging.recordOperationWithResultTags$(UsageLogging.scala:582)\n",
       "\tat com.databricks.rpc.ServerBackend.recordOperationWithResultTags(ServerBackend.scala:22)\n",
       "\tat com.databricks.logging.UsageLogging.recordOperation(UsageLogging.scala:573)\n",
       "\tat com.databricks.logging.UsageLogging.recordOperation$(UsageLogging.scala:542)\n",
       "\tat com.databricks.rpc.ServerBackend.recordOperation(ServerBackend.scala:22)\n",
       "\tat com.databricks.rpc.ServerBackend.internalReceive(ServerBackend.scala:147)\n",
       "\tat com.databricks.rpc.JettyServer$RequestManager.handleRPC(JettyServer.scala:1021)\n",
       "\tat com.databricks.rpc.JettyServer$RequestManager.handleRequestAndRespond(JettyServer.scala:942)\n",
       "\tat com.databricks.rpc.JettyServer$RequestManager.$anonfun$handleHttp$6(JettyServer.scala:546)\n",
       "\tat com.databricks.rpc.JettyServer$RequestManager.$anonfun$handleHttp$6$adapted(JettyServer.scala:515)\n",
       "\tat com.databricks.logging.activity.ActivityContextFactory$.$anonfun$withActivityInternal$4(ActivityContextFactory.scala:405)\n",
       "\tat com.databricks.logging.UsageLogging.$anonfun$withAttributionContext$1(UsageLogging.scala:426)\n",
       "\tat scala.util.DynamicVariable.withValue(DynamicVariable.scala:62)\n",
       "\tat com.databricks.logging.AttributionContext$.withValue(AttributionContext.scala:216)\n",
       "\tat com.databricks.logging.UsageLogging.withAttributionContext(UsageLogging.scala:424)\n",
       "\tat com.databricks.logging.UsageLogging.withAttributionContext$(UsageLogging.scala:418)\n",
       "\tat com.databricks.logging.activity.ActivityContextFactory$.withAttributionContext(ActivityContextFactory.scala:58)\n",
       "\tat com.databricks.logging.activity.ActivityContextFactory$.$anonfun$withActivityInternal$1(ActivityContextFactory.scala:405)\n",
       "\tat com.databricks.context.integrity.IntegrityCheckContext$ThreadLocalStorage$.withValue(IntegrityCheckContext.scala:75)\n",
       "\tat com.databricks.logging.activity.ActivityContextFactory$.withActivityInternal(ActivityContextFactory.scala:380)\n",
       "\tat com.databricks.logging.activity.ActivityContextFactory$.withServiceRequestActivity(ActivityContextFactory.scala:159)\n",
       "\tat com.databricks.rpc.JettyServer$RequestManager.handleHttp(JettyServer.scala:515)\n",
       "\tat com.databricks.rpc.JettyServer$RequestManager.doPost(JettyServer.scala:405)\n",
       "\tat javax.servlet.http.HttpServlet.service(HttpServlet.java:665)\n",
       "\tat com.databricks.rpc.HttpServletWithPatch.service(HttpServletWithPatch.scala:33)\n",
       "\tat javax.servlet.http.HttpServlet.service(HttpServlet.java:750)\n",
       "\tat org.eclipse.jetty.servlet.ServletHolder.handle(ServletHolder.java:799)\n",
       "\tat org.eclipse.jetty.servlet.ServletHandler.doHandle(ServletHandler.java:554)\n",
       "\tat org.eclipse.jetty.server.handler.ScopedHandler.nextScope(ScopedHandler.java:190)\n",
       "\tat org.eclipse.jetty.servlet.ServletHandler.doScope(ServletHandler.java:505)\n",
       "\tat org.eclipse.jetty.server.handler.ScopedHandler.handle(ScopedHandler.java:141)\n",
       "\tat org.eclipse.jetty.server.handler.HandlerWrapper.handle(HandlerWrapper.java:127)\n",
       "\tat org.eclipse.jetty.server.Server.handle(Server.java:516)\n",
       "\tat org.eclipse.jetty.server.HttpChannel.lambda$handle$1(HttpChannel.java:487)\n",
       "\tat org.eclipse.jetty.server.HttpChannel.dispatch(HttpChannel.java:732)\n",
       "\tat org.eclipse.jetty.server.HttpChannel.handle(HttpChannel.java:479)\n",
       "\tat org.eclipse.jetty.server.HttpConnection.onFillable(HttpConnection.java:277)\n",
       "\tat org.eclipse.jetty.io.AbstractConnection$ReadCallback.succeeded(AbstractConnection.java:311)\n",
       "\tat org.eclipse.jetty.io.FillInterest.fillable(FillInterest.java:105)\n",
       "\tat org.eclipse.jetty.io.ChannelEndPoint$1.run(ChannelEndPoint.java:104)\n",
       "\tat org.eclipse.jetty.util.thread.strategy.EatWhatYouKill.runTask(EatWhatYouKill.java:338)\n",
       "\tat org.eclipse.jetty.util.thread.strategy.EatWhatYouKill.doProduce(EatWhatYouKill.java:315)\n",
       "\tat org.eclipse.jetty.util.thread.strategy.EatWhatYouKill.tryProduce(EatWhatYouKill.java:173)\n",
       "\tat org.eclipse.jetty.util.thread.strategy.EatWhatYouKill.run(EatWhatYouKill.java:131)\n",
       "\tat org.eclipse.jetty.util.thread.ReservedThreadExecutor$ReservedThread.run(ReservedThreadExecutor.java:409)\n",
       "\tat com.databricks.rpc.InstrumentedQueuedThreadPool$$anon$1.$anonfun$run$4(InstrumentedQueuedThreadPool.scala:104)\n",
       "\tat scala.runtime.java8.JFunction0$mcV$sp.apply(JFunction0$mcV$sp.java:23)\n",
       "\tat com.databricks.logging.UsageLogging.$anonfun$withAttributionContext$1(UsageLogging.scala:426)\n",
       "\tat scala.util.DynamicVariable.withValue(DynamicVariable.scala:62)\n",
       "\tat com.databricks.logging.AttributionContext$.withValue(AttributionContext.scala:216)\n",
       "\tat com.databricks.logging.UsageLogging.withAttributionContext(UsageLogging.scala:424)\n",
       "\tat com.databricks.logging.UsageLogging.withAttributionContext$(UsageLogging.scala:418)\n",
       "\tat com.databricks.rpc.InstrumentedQueuedThreadPool.withAttributionContext(InstrumentedQueuedThreadPool.scala:47)\n",
       "\tat com.databricks.rpc.InstrumentedQueuedThreadPool$$anon$1.$anonfun$run$1(InstrumentedQueuedThreadPool.scala:104)\n",
       "\tat scala.runtime.java8.JFunction0$mcV$sp.apply(JFunction0$mcV$sp.java:23)\n",
       "\tat com.databricks.instrumentation.QueuedThreadPoolInstrumenter.trackActiveThreads(QueuedThreadPoolInstrumenter.scala:67)\n",
       "\tat com.databricks.instrumentation.QueuedThreadPoolInstrumenter.trackActiveThreads$(QueuedThreadPoolInstrumenter.scala:64)\n",
       "\tat com.databricks.rpc.InstrumentedQueuedThreadPool.trackActiveThreads(InstrumentedQueuedThreadPool.scala:47)\n",
       "\tat com.databricks.rpc.InstrumentedQueuedThreadPool$$anon$1.run(InstrumentedQueuedThreadPool.scala:86)\n",
       "\tat org.eclipse.jetty.util.thread.QueuedThreadPool.runJob(QueuedThreadPool.java:883)\n",
       "\tat org.eclipse.jetty.util.thread.QueuedThreadPool$Runner.run(QueuedThreadPool.java:1034)\n",
       "\tat java.lang.Thread.run(Thread.java:840)\n"
      ]
     },
     "metadata": {
      "application/vnd.databricks.v1+output": {
       "arguments": {},
       "data": "\u001B[0;31m---------------------------------------------------------------------------\u001B[0m\n\u001B[0;31mExecutionError\u001B[0m                            Traceback (most recent call last)\nFile \u001B[0;32m<command-1560701934220911>:1\u001B[0m\n\u001B[0;32m----> 1\u001B[0m \u001B[43mdbutils\u001B[49m\u001B[38;5;241;43m.\u001B[39;49m\u001B[43mfs\u001B[49m\u001B[38;5;241;43m.\u001B[39;49m\u001B[43mmount\u001B[49m\u001B[43m(\u001B[49m\n\u001B[1;32m      2\u001B[0m \u001B[43msource\u001B[49m\u001B[43m \u001B[49m\u001B[38;5;241;43m=\u001B[39;49m\u001B[43m \u001B[49m\u001B[38;5;124;43m\"\u001B[39;49m\u001B[38;5;124;43mwasbs://tokyodata@tokyostoarge.blob.core.windows.net\u001B[39;49m\u001B[38;5;124;43m\"\u001B[39;49m\u001B[43m,\u001B[49m\u001B[43m \u001B[49m\u001B[38;5;66;43;03m# contrainer@storageacc\u001B[39;49;00m\n\u001B[1;32m      3\u001B[0m \u001B[43mmount_point\u001B[49m\u001B[43m \u001B[49m\u001B[38;5;241;43m=\u001B[39;49m\u001B[43m \u001B[49m\u001B[38;5;124;43m\"\u001B[39;49m\u001B[38;5;124;43m/mnt/tokyo_olymic\u001B[39;49m\u001B[38;5;124;43m\"\u001B[39;49m\u001B[43m,\u001B[49m\n\u001B[1;32m      4\u001B[0m \u001B[43mextra_configs\u001B[49m\u001B[43m \u001B[49m\u001B[38;5;241;43m=\u001B[39;49m\u001B[43m \u001B[49m\u001B[43m{\u001B[49m\u001B[38;5;124;43m\"\u001B[39;49m\u001B[38;5;124;43mfs.azure.account.key.tokyostoarge.blob.core.windows.net\u001B[39;49m\u001B[38;5;124;43m\"\u001B[39;49m\u001B[43m:\u001B[49m\u001B[38;5;124;43m\"\u001B[39;49m\u001B[38;5;124;43msk7hK1X3dHoLlmLE3WvTPlTYyoVNhBQa3dBQ9PIxGUoFAgliJz9haIJHJ+F/QD+nGk7Tk8rPMW0q+AStSbRTAw==\u001B[39;49m\u001B[38;5;124;43m\"\u001B[39;49m\u001B[43m}\u001B[49m\u001B[43m)\u001B[49m\n\nFile \u001B[0;32m/databricks/python_shell/dbruntime/dbutils.py:362\u001B[0m, in \u001B[0;36mDBUtils.FSHandler.prettify_exception_message.<locals>.f_with_exception_handling\u001B[0;34m(*args, **kwargs)\u001B[0m\n\u001B[1;32m    360\u001B[0m exc\u001B[38;5;241m.\u001B[39m__context__ \u001B[38;5;241m=\u001B[39m \u001B[38;5;28;01mNone\u001B[39;00m\n\u001B[1;32m    361\u001B[0m exc\u001B[38;5;241m.\u001B[39m__cause__ \u001B[38;5;241m=\u001B[39m \u001B[38;5;28;01mNone\u001B[39;00m\n\u001B[0;32m--> 362\u001B[0m \u001B[38;5;28;01mraise\u001B[39;00m exc\n\n\u001B[0;31mExecutionError\u001B[0m: An error occurred while calling o397.mount.\n: java.rmi.RemoteException: java.lang.IllegalArgumentException: requirement failed: Directory already mounted: /mnt/tokyo_olymic; nested exception is: \n\tjava.lang.IllegalArgumentException: requirement failed: Directory already mounted: /mnt/tokyo_olymic\n\tat com.databricks.backend.daemon.data.client.DbfsClient.send0(DbfsClient.scala:135)\n\tat com.databricks.backend.daemon.data.client.DbfsClient.sendIdempotent(DbfsClient.scala:69)\n\tat com.databricks.backend.daemon.dbutils.DBUtilsCore.createOrUpdateMount(DBUtilsCore.scala:1029)\n\tat com.databricks.backend.daemon.dbutils.DBUtilsCore.$anonfun$mount$1(DBUtilsCore.scala:1055)\n\tat com.databricks.logging.UsageLogging.$anonfun$recordOperation$1(UsageLogging.scala:560)\n\tat com.databricks.logging.UsageLogging.executeThunkAndCaptureResultTags$1(UsageLogging.scala:656)\n\tat com.databricks.logging.UsageLogging.$anonfun$recordOperationWithResultTags$4(UsageLogging.scala:677)\n\tat com.databricks.logging.UsageLogging.$anonfun$withAttributionContext$1(UsageLogging.scala:414)\n\tat scala.util.DynamicVariable.withValue(DynamicVariable.scala:62)\n\tat com.databricks.logging.AttributionContext$.withValue(AttributionContext.scala:158)\n\tat com.databricks.logging.UsageLogging.withAttributionContext(UsageLogging.scala:412)\n\tat com.databricks.logging.UsageLogging.withAttributionContext$(UsageLogging.scala:409)\n\tat com.databricks.backend.daemon.dbutils.FSUtils.withAttributionContext(DBUtilsCore.scala:69)\n\tat com.databricks.logging.UsageLogging.withAttributionTags(UsageLogging.scala:457)\n\tat com.databricks.logging.UsageLogging.withAttributionTags$(UsageLogging.scala:442)\n\tat com.databricks.backend.daemon.dbutils.FSUtils.withAttributionTags(DBUtilsCore.scala:69)\n\tat com.databricks.logging.UsageLogging.recordOperationWithResultTags(UsageLogging.scala:651)\n\tat com.databricks.logging.UsageLogging.recordOperationWithResultTags$(UsageLogging.scala:569)\n\tat com.databricks.backend.daemon.dbutils.FSUtils.recordOperationWithResultTags(DBUtilsCore.scala:69)\n\tat com.databricks.logging.UsageLogging.recordOperation(UsageLogging.scala:560)\n\tat com.databricks.logging.UsageLogging.recordOperation$(UsageLogging.scala:528)\n\tat com.databricks.backend.daemon.dbutils.FSUtils.recordOperation(DBUtilsCore.scala:69)\n\tat com.databricks.backend.daemon.dbutils.FSUtils.recordDbutilsFsOp(DBUtilsCore.scala:133)\n\tat com.databricks.backend.daemon.dbutils.DBUtilsCore.mount(DBUtilsCore.scala:1049)\n\tat sun.reflect.NativeMethodAccessorImpl.invoke0(Native Method)\n\tat sun.reflect.NativeMethodAccessorImpl.invoke(NativeMethodAccessorImpl.java:62)\n\tat sun.reflect.DelegatingMethodAccessorImpl.invoke(DelegatingMethodAccessorImpl.java:43)\n\tat java.lang.reflect.Method.invoke(Method.java:498)\n\tat py4j.reflection.MethodInvoker.invoke(MethodInvoker.java:244)\n\tat py4j.reflection.ReflectionEngine.invoke(ReflectionEngine.java:380)\n\tat py4j.Gateway.invoke(Gateway.java:306)\n\tat py4j.commands.AbstractCommand.invokeMethod(AbstractCommand.java:132)\n\tat py4j.commands.CallCommand.execute(CallCommand.java:79)\n\tat py4j.ClientServerConnection.waitForCommands(ClientServerConnection.java:195)\n\tat py4j.ClientServerConnection.run(ClientServerConnection.java:115)\n\tat java.lang.Thread.run(Thread.java:750)\nCaused by: java.lang.IllegalArgumentException: requirement failed: Directory already mounted: /mnt/tokyo_olymic\n\tat scala.Predef$.require(Predef.scala:281)\n\tat com.databricks.backend.daemon.data.server.DefaultMetadataManager.$anonfun$insertMount$1(MetadataManager.scala:692)\n\tat com.databricks.backend.daemon.data.server.DefaultMetadataManager.$anonfun$modifyAndVerify$2(MetadataManager.scala:1068)\n\tat scala.runtime.java8.JFunction0$mcV$sp.apply(JFunction0$mcV$sp.java:23)\n\tat com.databricks.backend.daemon.data.server.DefaultMetadataManager.withRetries(MetadataManager.scala:841)\n\tat com.databricks.backend.daemon.data.server.DefaultMetadataManager.modifyAndVerify(MetadataManager.scala:1057)\n\tat com.databricks.backend.daemon.data.server.DefaultMetadataManager.insertMount(MetadataManager.scala:700)\n\tat com.databricks.backend.daemon.data.server.handler.MountHandler.receive(MountHandler.scala:128)\n\tat com.databricks.backend.daemon.data.server.handler.CEMountHandler.receive(MountHandler.scala:172)\n\tat com.databricks.backend.daemon.data.server.session.SessionContext.$anonfun$queryHandlers$1(SessionContext.scala:54)\n\tat com.databricks.backend.daemon.data.server.session.SessionContext.$anonfun$queryHandlers$1$adapted(SessionContext.scala:53)\n\tat scala.collection.immutable.List.foreach(List.scala:431)\n\tat com.databricks.backend.daemon.data.server.session.SessionContext.queryHandlers(SessionContext.scala:53)\n\tat com.databricks.backend.daemon.data.server.DbfsServerBackend$$anonfun$receive$4.$anonfun$applyOrElse$9(DbfsServerBackend.scala:387)\n\tat com.databricks.logging.UsageLogging.$anonfun$withAttributionContext$1(UsageLogging.scala:426)\n\tat scala.util.DynamicVariable.withValue(DynamicVariable.scala:62)\n\tat com.databricks.logging.AttributionContext$.withValue(AttributionContext.scala:216)\n\tat com.databricks.logging.UsageLogging.withAttributionContext(UsageLogging.scala:424)\n\tat com.databricks.logging.UsageLogging.withAttributionContext$(UsageLogging.scala:418)\n\tat com.databricks.rpc.ServerBackend.withAttributionContext(ServerBackend.scala:22)\n\tat com.databricks.logging.UsageLogging.withAttributionTags(UsageLogging.scala:472)\n\tat com.databricks.logging.UsageLogging.withAttributionTags$(UsageLogging.scala:455)\n\tat com.databricks.rpc.ServerBackend.withAttributionTags(ServerBackend.scala:22)\n\tat com.databricks.backend.daemon.data.server.DbfsServerBackend$$anonfun$receive$4.applyOrElse(DbfsServerBackend.scala:387)\n\tat com.databricks.backend.daemon.data.server.DbfsServerBackend$$anonfun$receive$4.applyOrElse(DbfsServerBackend.scala:327)\n\tat com.databricks.rpc.ServerBackend.$anonfun$internalReceive0$2(ServerBackend.scala:174)\n\tat com.databricks.rpc.ServerBackend$$anonfun$commonReceive$1.applyOrElse(ServerBackend.scala:200)\n\tat com.databricks.rpc.ServerBackend$$anonfun$commonReceive$1.applyOrElse(ServerBackend.scala:200)\n\tat com.databricks.rpc.ServerBackend.internalReceive0(ServerBackend.scala:171)\n\tat com.databricks.rpc.ServerBackend.$anonfun$internalReceive$1(ServerBackend.scala:147)\n\tat com.databricks.logging.UsageLogging.$anonfun$recordOperation$1(UsageLogging.scala:573)\n\tat com.databricks.logging.UsageLogging.executeThunkAndCaptureResultTags$1(UsageLogging.scala:676)\n\tat com.databricks.logging.UsageLogging.$anonfun$recordOperationWithResultTags$4(UsageLogging.scala:694)\n\tat com.databricks.logging.UsageLogging.$anonfun$withAttributionContext$1(UsageLogging.scala:426)\n\tat scala.util.DynamicVariable.withValue(DynamicVariable.scala:62)\n\tat com.databricks.logging.AttributionContext$.withValue(AttributionContext.scala:216)\n\tat com.databricks.logging.UsageLogging.withAttributionContext(UsageLogging.scala:424)\n\tat com.databricks.logging.UsageLogging.withAttributionContext$(UsageLogging.scala:418)\n\tat com.databricks.rpc.ServerBackend.withAttributionContext(ServerBackend.scala:22)\n\tat com.databricks.logging.UsageLogging.withAttributionTags(UsageLogging.scala:472)\n\tat com.databricks.logging.UsageLogging.withAttributionTags$(UsageLogging.scala:455)\n\tat com.databricks.rpc.ServerBackend.withAttributionTags(ServerBackend.scala:22)\n\tat com.databricks.logging.UsageLogging.recordOperationWithResultTags(UsageLogging.scala:671)\n\tat com.databricks.logging.UsageLogging.recordOperationWithResultTags$(UsageLogging.scala:582)\n\tat com.databricks.rpc.ServerBackend.recordOperationWithResultTags(ServerBackend.scala:22)\n\tat com.databricks.logging.UsageLogging.recordOperation(UsageLogging.scala:573)\n\tat com.databricks.logging.UsageLogging.recordOperation$(UsageLogging.scala:542)\n\tat com.databricks.rpc.ServerBackend.recordOperation(ServerBackend.scala:22)\n\tat com.databricks.rpc.ServerBackend.internalReceive(ServerBackend.scala:147)\n\tat com.databricks.rpc.JettyServer$RequestManager.handleRPC(JettyServer.scala:1021)\n\tat com.databricks.rpc.JettyServer$RequestManager.handleRequestAndRespond(JettyServer.scala:942)\n\tat com.databricks.rpc.JettyServer$RequestManager.$anonfun$handleHttp$6(JettyServer.scala:546)\n\tat com.databricks.rpc.JettyServer$RequestManager.$anonfun$handleHttp$6$adapted(JettyServer.scala:515)\n\tat com.databricks.logging.activity.ActivityContextFactory$.$anonfun$withActivityInternal$4(ActivityContextFactory.scala:405)\n\tat com.databricks.logging.UsageLogging.$anonfun$withAttributionContext$1(UsageLogging.scala:426)\n\tat scala.util.DynamicVariable.withValue(DynamicVariable.scala:62)\n\tat com.databricks.logging.AttributionContext$.withValue(AttributionContext.scala:216)\n\tat com.databricks.logging.UsageLogging.withAttributionContext(UsageLogging.scala:424)\n\tat com.databricks.logging.UsageLogging.withAttributionContext$(UsageLogging.scala:418)\n\tat com.databricks.logging.activity.ActivityContextFactory$.withAttributionContext(ActivityContextFactory.scala:58)\n\tat com.databricks.logging.activity.ActivityContextFactory$.$anonfun$withActivityInternal$1(ActivityContextFactory.scala:405)\n\tat com.databricks.context.integrity.IntegrityCheckContext$ThreadLocalStorage$.withValue(IntegrityCheckContext.scala:75)\n\tat com.databricks.logging.activity.ActivityContextFactory$.withActivityInternal(ActivityContextFactory.scala:380)\n\tat com.databricks.logging.activity.ActivityContextFactory$.withServiceRequestActivity(ActivityContextFactory.scala:159)\n\tat com.databricks.rpc.JettyServer$RequestManager.handleHttp(JettyServer.scala:515)\n\tat com.databricks.rpc.JettyServer$RequestManager.doPost(JettyServer.scala:405)\n\tat javax.servlet.http.HttpServlet.service(HttpServlet.java:665)\n\tat com.databricks.rpc.HttpServletWithPatch.service(HttpServletWithPatch.scala:33)\n\tat javax.servlet.http.HttpServlet.service(HttpServlet.java:750)\n\tat org.eclipse.jetty.servlet.ServletHolder.handle(ServletHolder.java:799)\n\tat org.eclipse.jetty.servlet.ServletHandler.doHandle(ServletHandler.java:554)\n\tat org.eclipse.jetty.server.handler.ScopedHandler.nextScope(ScopedHandler.java:190)\n\tat org.eclipse.jetty.servlet.ServletHandler.doScope(ServletHandler.java:505)\n\tat org.eclipse.jetty.server.handler.ScopedHandler.handle(ScopedHandler.java:141)\n\tat org.eclipse.jetty.server.handler.HandlerWrapper.handle(HandlerWrapper.java:127)\n\tat org.eclipse.jetty.server.Server.handle(Server.java:516)\n\tat org.eclipse.jetty.server.HttpChannel.lambda$handle$1(HttpChannel.java:487)\n\tat org.eclipse.jetty.server.HttpChannel.dispatch(HttpChannel.java:732)\n\tat org.eclipse.jetty.server.HttpChannel.handle(HttpChannel.java:479)\n\tat org.eclipse.jetty.server.HttpConnection.onFillable(HttpConnection.java:277)\n\tat org.eclipse.jetty.io.AbstractConnection$ReadCallback.succeeded(AbstractConnection.java:311)\n\tat org.eclipse.jetty.io.FillInterest.fillable(FillInterest.java:105)\n\tat org.eclipse.jetty.io.ChannelEndPoint$1.run(ChannelEndPoint.java:104)\n\tat org.eclipse.jetty.util.thread.strategy.EatWhatYouKill.runTask(EatWhatYouKill.java:338)\n\tat org.eclipse.jetty.util.thread.strategy.EatWhatYouKill.doProduce(EatWhatYouKill.java:315)\n\tat org.eclipse.jetty.util.thread.strategy.EatWhatYouKill.tryProduce(EatWhatYouKill.java:173)\n\tat org.eclipse.jetty.util.thread.strategy.EatWhatYouKill.run(EatWhatYouKill.java:131)\n\tat org.eclipse.jetty.util.thread.ReservedThreadExecutor$ReservedThread.run(ReservedThreadExecutor.java:409)\n\tat com.databricks.rpc.InstrumentedQueuedThreadPool$$anon$1.$anonfun$run$4(InstrumentedQueuedThreadPool.scala:104)\n\tat scala.runtime.java8.JFunction0$mcV$sp.apply(JFunction0$mcV$sp.java:23)\n\tat com.databricks.logging.UsageLogging.$anonfun$withAttributionContext$1(UsageLogging.scala:426)\n\tat scala.util.DynamicVariable.withValue(DynamicVariable.scala:62)\n\tat com.databricks.logging.AttributionContext$.withValue(AttributionContext.scala:216)\n\tat com.databricks.logging.UsageLogging.withAttributionContext(UsageLogging.scala:424)\n\tat com.databricks.logging.UsageLogging.withAttributionContext$(UsageLogging.scala:418)\n\tat com.databricks.rpc.InstrumentedQueuedThreadPool.withAttributionContext(InstrumentedQueuedThreadPool.scala:47)\n\tat com.databricks.rpc.InstrumentedQueuedThreadPool$$anon$1.$anonfun$run$1(InstrumentedQueuedThreadPool.scala:104)\n\tat scala.runtime.java8.JFunction0$mcV$sp.apply(JFunction0$mcV$sp.java:23)\n\tat com.databricks.instrumentation.QueuedThreadPoolInstrumenter.trackActiveThreads(QueuedThreadPoolInstrumenter.scala:67)\n\tat com.databricks.instrumentation.QueuedThreadPoolInstrumenter.trackActiveThreads$(QueuedThreadPoolInstrumenter.scala:64)\n\tat com.databricks.rpc.InstrumentedQueuedThreadPool.trackActiveThreads(InstrumentedQueuedThreadPool.scala:47)\n\tat com.databricks.rpc.InstrumentedQueuedThreadPool$$anon$1.run(InstrumentedQueuedThreadPool.scala:86)\n\tat org.eclipse.jetty.util.thread.QueuedThreadPool.runJob(QueuedThreadPool.java:883)\n\tat org.eclipse.jetty.util.thread.QueuedThreadPool$Runner.run(QueuedThreadPool.java:1034)\n\tat java.lang.Thread.run(Thread.java:840)\n",
       "errorSummary": "java.rmi.RemoteException: java.lang.IllegalArgumentException: requirement failed: Directory already mounted: /mnt/tokyo_olymic; nested exception is: ",
       "errorTraceType": "ansi",
       "metadata": {},
       "type": "ipynbError"
      }
     },
     "output_type": "display_data"
    }
   ],
   "source": [
    "dbutils.fs.mount(\n",
    "source = \"wasbs://tokyodata@tokyostoarge.blob.core.windows.net\", # contrainer@storageacc\n",
    "mount_point = \"/mnt/tokyo_olymic\",\n",
    "extra_configs = {\"fs.azure.account.key.tokyostoarge.blob.core.windows.net\":\"sk7hK1X3dHoLlmLE3WvTPlTYyoVNhBQa3dBQ9PIxGUoFAgliJz9haIJHJ+F/QD+nGk7Tk8rPMW0q+AStSbRTAw==\"})\n",
    "  "
   ]
  },
  {
   "cell_type": "code",
   "execution_count": 0,
   "metadata": {
    "application/vnd.databricks.v1+cell": {
     "cellMetadata": {
      "byteLimit": 2048000,
      "rowLimit": 10000
     },
     "inputWidgets": {},
     "nuid": "cd955189-a295-4957-89cf-5187ff30c862",
     "showTitle": false,
     "title": ""
    }
   },
   "outputs": [
    {
     "output_type": "display_data",
     "data": {
      "text/html": [
       "<style scoped>\n",
       "  .table-result-container {\n",
       "    max-height: 300px;\n",
       "    overflow: auto;\n",
       "  }\n",
       "  table, th, td {\n",
       "    border: 1px solid black;\n",
       "    border-collapse: collapse;\n",
       "  }\n",
       "  th, td {\n",
       "    padding: 5px;\n",
       "  }\n",
       "  th {\n",
       "    text-align: left;\n",
       "  }\n",
       "</style><div class='table-result-container'><table class='table-result'><thead style='background-color: white'><tr><th>path</th><th>name</th><th>size</th><th>modificationTime</th></tr></thead><tbody><tr><td>dbfs:/mnt/tokyo_olymic/raw_layer/</td><td>raw_layer/</td><td>0</td><td>0</td></tr><tr><td>dbfs:/mnt/tokyo_olymic/transformed_layer/</td><td>transformed_layer/</td><td>0</td><td>0</td></tr></tbody></table></div>"
      ]
     },
     "metadata": {
      "application/vnd.databricks.v1+output": {
       "addedWidgets": {},
       "aggData": [],
       "aggError": "",
       "aggOverflow": false,
       "aggSchema": [],
       "aggSeriesLimitReached": false,
       "aggType": "",
       "arguments": {},
       "columnCustomDisplayInfos": {},
       "data": [
        [
         "dbfs:/mnt/tokyo_olymic/raw_layer/",
         "raw_layer/",
         0,
         0
        ],
        [
         "dbfs:/mnt/tokyo_olymic/transformed_layer/",
         "transformed_layer/",
         0,
         0
        ]
       ],
       "datasetInfos": [],
       "dbfsResultPath": null,
       "isJsonSchema": true,
       "metadata": {
        "isDbfsCommandResult": false
       },
       "overflow": false,
       "plotOptions": {
        "customPlotOptions": {},
        "displayType": "table",
        "pivotAggregation": null,
        "pivotColumns": null,
        "xColumns": null,
        "yColumns": null
       },
       "removedWidgets": [],
       "schema": [
        {
         "metadata": "{}",
         "name": "path",
         "type": "\"string\""
        },
        {
         "metadata": "{}",
         "name": "name",
         "type": "\"string\""
        },
        {
         "metadata": "{}",
         "name": "size",
         "type": "\"long\""
        },
        {
         "metadata": "{}",
         "name": "modificationTime",
         "type": "\"long\""
        }
       ],
       "type": "table"
      }
     },
     "output_type": "display_data"
    }
   ],
   "source": [
    "%fs ls \"/mnt/tokyo_olymic\""
   ]
  },
  {
   "cell_type": "code",
   "execution_count": 0,
   "metadata": {
    "application/vnd.databricks.v1+cell": {
     "cellMetadata": {
      "byteLimit": 2048000,
      "rowLimit": 10000
     },
     "inputWidgets": {},
     "nuid": "9d72b6a0-ba5a-45e6-8363-3c4aef4bfaad",
     "showTitle": false,
     "title": ""
    }
   },
   "outputs": [
    {
     "output_type": "display_data",
     "data": {
      "text/html": [
       "<style scoped>\n",
       "  .table-result-container {\n",
       "    max-height: 300px;\n",
       "    overflow: auto;\n",
       "  }\n",
       "  table, th, td {\n",
       "    border: 1px solid black;\n",
       "    border-collapse: collapse;\n",
       "  }\n",
       "  th, td {\n",
       "    padding: 5px;\n",
       "  }\n",
       "  th {\n",
       "    text-align: left;\n",
       "  }\n",
       "</style><div class='table-result-container'><table class='table-result'><thead style='background-color: white'><tr><th>path</th><th>name</th><th>size</th><th>modificationTime</th></tr></thead><tbody><tr><td>dbfs:/mnt/tokyo_olymic/raw_layer/Athletes.csv</td><td>Athletes.csv</td><td>418492</td><td>1708851178000</td></tr><tr><td>dbfs:/mnt/tokyo_olymic/raw_layer/Coaches.csv</td><td>Coaches.csv</td><td>16889</td><td>1708851193000</td></tr><tr><td>dbfs:/mnt/tokyo_olymic/raw_layer/EntriesGender.csv</td><td>EntriesGender.csv</td><td>1123</td><td>1708851208000</td></tr><tr><td>dbfs:/mnt/tokyo_olymic/raw_layer/Medals.csv</td><td>Medals.csv</td><td>2414</td><td>1708851222000</td></tr><tr><td>dbfs:/mnt/tokyo_olymic/raw_layer/Teams.csv</td><td>Teams.csv</td><td>35270</td><td>1708851236000</td></tr></tbody></table></div>"
      ]
     },
     "metadata": {
      "application/vnd.databricks.v1+output": {
       "addedWidgets": {},
       "aggData": [],
       "aggError": "",
       "aggOverflow": false,
       "aggSchema": [],
       "aggSeriesLimitReached": false,
       "aggType": "",
       "arguments": {},
       "columnCustomDisplayInfos": {},
       "data": [
        [
         "dbfs:/mnt/tokyo_olymic/raw_layer/Athletes.csv",
         "Athletes.csv",
         418492,
         1708851178000
        ],
        [
         "dbfs:/mnt/tokyo_olymic/raw_layer/Coaches.csv",
         "Coaches.csv",
         16889,
         1708851193000
        ],
        [
         "dbfs:/mnt/tokyo_olymic/raw_layer/EntriesGender.csv",
         "EntriesGender.csv",
         1123,
         1708851208000
        ],
        [
         "dbfs:/mnt/tokyo_olymic/raw_layer/Medals.csv",
         "Medals.csv",
         2414,
         1708851222000
        ],
        [
         "dbfs:/mnt/tokyo_olymic/raw_layer/Teams.csv",
         "Teams.csv",
         35270,
         1708851236000
        ]
       ],
       "datasetInfos": [],
       "dbfsResultPath": null,
       "isJsonSchema": true,
       "metadata": {
        "isDbfsCommandResult": false
       },
       "overflow": false,
       "plotOptions": {
        "customPlotOptions": {},
        "displayType": "table",
        "pivotAggregation": null,
        "pivotColumns": null,
        "xColumns": null,
        "yColumns": null
       },
       "removedWidgets": [],
       "schema": [
        {
         "metadata": "{}",
         "name": "path",
         "type": "\"string\""
        },
        {
         "metadata": "{}",
         "name": "name",
         "type": "\"string\""
        },
        {
         "metadata": "{}",
         "name": "size",
         "type": "\"long\""
        },
        {
         "metadata": "{}",
         "name": "modificationTime",
         "type": "\"long\""
        }
       ],
       "type": "table"
      }
     },
     "output_type": "display_data"
    }
   ],
   "source": [
    "%fs ls dbfs:/mnt/tokyo_olymic/raw_layer/"
   ]
  },
  {
   "cell_type": "code",
   "execution_count": 0,
   "metadata": {
    "application/vnd.databricks.v1+cell": {
     "cellMetadata": {
      "byteLimit": 2048000,
      "rowLimit": 10000
     },
     "inputWidgets": {},
     "nuid": "a0baf43e-1780-4711-8237-567066877ecc",
     "showTitle": false,
     "title": ""
    }
   },
   "outputs": [],
   "source": [
    "athletes = spark.read.format(\"csv\").option(\"header\",\"true\").option(\"inferSchema\",\"true\").load(\"/mnt/tokyo_olymic/raw_layer/Athletes.csv\")\n",
    "coaches = spark.read.format(\"csv\").option(\"header\",\"true\").option(\"inferSchema\",\"true\").load(\"/mnt/tokyo_olymic/raw_layer/Coaches.csv\")\n",
    "entriesgender = spark.read.format(\"csv\").option(\"header\",\"true\").option(\"inferSchema\",\"true\").load(\"/mnt/tokyo_olymic/raw_layer/EntriesGender.csv\")\n",
    "medals = spark.read.format(\"csv\").option(\"header\",\"true\").option(\"inferSchema\",\"true\").load(\"/mnt/tokyo_olymic/raw_layer/Medals.csv\")\n",
    "teams = spark.read.format(\"csv\").option(\"header\",\"true\").option(\"inferSchema\",\"true\").load(\"/mnt/tokyo_olymic/raw_layer/Teams.csv\")"
   ]
  },
  {
   "cell_type": "code",
   "execution_count": 0,
   "metadata": {
    "application/vnd.databricks.v1+cell": {
     "cellMetadata": {
      "byteLimit": 2048000,
      "rowLimit": 10000
     },
     "inputWidgets": {},
     "nuid": "d79053bf-294f-402e-9e89-7a880f76ad19",
     "showTitle": false,
     "title": ""
    }
   },
   "outputs": [
    {
     "output_type": "stream",
     "name": "stdout",
     "output_type": "stream",
     "text": [
      "+--------------------+--------------------+-------------------+\n|          PersonName|             Country|         Discipline|\n+--------------------+--------------------+-------------------+\n|     AALERUD Katrine|              Norway|       Cycling Road|\n|         ABAD Nestor|               Spain|Artistic Gymnastics|\n|   ABAGNALE Giovanni|               Italy|             Rowing|\n|      ABALDE Alberto|               Spain|         Basketball|\n|       ABALDE Tamara|               Spain|         Basketball|\n|           ABALO Luc|              France|           Handball|\n|        ABAROA Cesar|               Chile|             Rowing|\n|       ABASS Abobakr|               Sudan|           Swimming|\n|    ABBASALI Hamideh|Islamic Republic ...|             Karate|\n|       ABBASOV Islam|          Azerbaijan|          Wrestling|\n|        ABBINGH Lois|         Netherlands|           Handball|\n|         ABBOT Emily|           Australia|Rhythmic Gymnastics|\n|       ABBOTT Monica|United States of ...|  Baseball/Softball|\n|ABDALLA Abubaker ...|               Qatar|          Athletics|\n|      ABDALLA Maryam|               Egypt|  Artistic Swimming|\n|      ABDALLAH Shahd|               Egypt|  Artistic Swimming|\n| ABDALRASOOL Mohamed|               Sudan|               Judo|\n|   ABDEL LATIF Radwa|               Egypt|           Shooting|\n|    ABDEL RAZEK Samy|               Egypt|           Shooting|\n|   ABDELAZIZ Abdalla|               Egypt|             Karate|\n+--------------------+--------------------+-------------------+\nonly showing top 20 rows\n\n"
     ]
    }
   ],
   "source": [
    "athletes.show()"
   ]
  },
  {
   "cell_type": "code",
   "execution_count": 0,
   "metadata": {
    "application/vnd.databricks.v1+cell": {
     "cellMetadata": {
      "byteLimit": 2048000,
      "rowLimit": 10000
     },
     "inputWidgets": {},
     "nuid": "a7c50cf1-f1ef-445a-ab34-ec12d210c78e",
     "showTitle": false,
     "title": ""
    }
   },
   "outputs": [
    {
     "output_type": "stream",
     "name": "stdout",
     "output_type": "stream",
     "text": [
      "root\n |-- PersonName: string (nullable = true)\n |-- Country: string (nullable = true)\n |-- Discipline: string (nullable = true)\n\nroot\n |-- Name: string (nullable = true)\n |-- Country: string (nullable = true)\n |-- Discipline: string (nullable = true)\n |-- Event: string (nullable = true)\n\n"
     ]
    }
   ],
   "source": [
    "athletes.printSchema()\n",
    "coaches.printSchema()\n"
   ]
  },
  {
   "cell_type": "code",
   "execution_count": 0,
   "metadata": {
    "application/vnd.databricks.v1+cell": {
     "cellMetadata": {
      "byteLimit": 2048000,
      "rowLimit": 10000
     },
     "inputWidgets": {},
     "nuid": "4f6d050d-c4fd-4566-ad4b-3ef6ff393442",
     "showTitle": false,
     "title": ""
    }
   },
   "outputs": [
    {
     "output_type": "stream",
     "name": "stdout",
     "output_type": "stream",
     "text": [
      "root\n |-- Discipline: string (nullable = true)\n |-- Female: integer (nullable = true)\n |-- Male: integer (nullable = true)\n |-- Total: integer (nullable = true)\n\nroot\n |-- Rank: integer (nullable = true)\n |-- Team_Country: string (nullable = true)\n |-- Gold: integer (nullable = true)\n |-- Silver: integer (nullable = true)\n |-- Bronze: integer (nullable = true)\n |-- Total: integer (nullable = true)\n |-- Rank by Total: integer (nullable = true)\n\nroot\n |-- TeamName: string (nullable = true)\n |-- Discipline: string (nullable = true)\n |-- Country: string (nullable = true)\n |-- Event: string (nullable = true)\n\n"
     ]
    }
   ],
   "source": [
    "entriesgender.printSchema()\n",
    "medals.printSchema()\n",
    "teams.printSchema()"
   ]
  },
  {
   "cell_type": "code",
   "execution_count": 0,
   "metadata": {
    "application/vnd.databricks.v1+cell": {
     "cellMetadata": {
      "byteLimit": 2048000,
      "rowLimit": 10000
     },
     "inputWidgets": {},
     "nuid": "0972fbb6-ff70-49b7-ae54-73ac983831de",
     "showTitle": false,
     "title": ""
    }
   },
   "outputs": [
    {
     "output_type": "stream",
     "name": "stdout",
     "output_type": "stream",
     "text": [
      "+----+--------------------+----+------+------+-----+-------------+\n|Rank|        Team_Country|Gold|Silver|Bronze|Total|Rank by Total|\n+----+--------------------+----+------+------+-----+-------------+\n|   1|United States of ...|  39|    41|    33|  113|            1|\n|   2|People's Republic...|  38|    32|    18|   88|            2|\n|   3|               Japan|  27|    14|    17|   58|            5|\n|   4|       Great Britain|  22|    21|    22|   65|            4|\n|   5|                 ROC|  20|    28|    23|   71|            3|\n|   6|           Australia|  17|     7|    22|   46|            6|\n|   7|         Netherlands|  10|    12|    14|   36|            9|\n|   8|              France|  10|    12|    11|   33|           10|\n|   9|             Germany|  10|    11|    16|   37|            8|\n|  10|               Italy|  10|    10|    20|   40|            7|\n+----+--------------------+----+------+------+-----+-------------+\nonly showing top 10 rows\n\n+--------------------------+----+\n|Team_Country              |Gold|\n+--------------------------+----+\n|United States of America  |39  |\n|People's Republic of China|38  |\n|Japan                     |27  |\n|Great Britain             |22  |\n|ROC                       |20  |\n|Australia                 |17  |\n|Netherlands               |10  |\n|France                    |10  |\n|Germany                   |10  |\n|Italy                     |10  |\n+--------------------------+----+\nonly showing top 10 rows\n\n"
     ]
    }
   ],
   "source": [
    "# Find the top countries with the highest number of gold medals\n",
    "medals.show(10)\n",
    "top_gold=medals.orderBy(\"Gold\",ascending=False).select(\"Team_Country\",\"Gold\")\n",
    "top_gold.show(10,truncate=False)"
   ]
  },
  {
   "cell_type": "code",
   "execution_count": 0,
   "metadata": {
    "application/vnd.databricks.v1+cell": {
     "cellMetadata": {
      "byteLimit": 2048000,
      "rowLimit": 10000
     },
     "inputWidgets": {},
     "nuid": "f835889a-23d8-414f-9036-765c984fdf50",
     "showTitle": false,
     "title": ""
    }
   },
   "outputs": [
    {
     "output_type": "stream",
     "name": "stdout",
     "output_type": "stream",
     "text": [
      "+--------------------+------+----+-----+-------------------+-------------------+\n|          Discipline|Female|Male|Total|         Avg_Female|           Avg_Male|\n+--------------------+------+----+-----+-------------------+-------------------+\n|      3x3 Basketball|    32|  32|   64|                0.5|                0.5|\n|             Archery|    64|  64|  128|                0.5|                0.5|\n| Artistic Gymnastics|    98|  98|  196|                0.5|                0.5|\n|   Artistic Swimming|   105|   0|  105|                1.0|                0.0|\n|           Athletics|   969|1072| 2041| 0.4747672709456149| 0.5252327290543851|\n|           Badminton|    86|  87|  173|0.49710982658959535| 0.5028901734104047|\n|   Baseball/Softball|    90| 144|  234|0.38461538461538464| 0.6153846153846154|\n|          Basketball|   144| 144|  288|                0.5|                0.5|\n|    Beach Volleyball|    48|  48|   96|                0.5|                0.5|\n|              Boxing|   102| 187|  289|0.35294117647058826| 0.6470588235294118|\n|        Canoe Slalom|    41|  41|   82|                0.5|                0.5|\n|        Canoe Sprint|   123| 126|  249| 0.4939759036144578| 0.5060240963855421|\n|Cycling BMX Frees...|    10|   9|   19| 0.5263157894736842|0.47368421052631576|\n|  Cycling BMX Racing|    24|  24|   48|                0.5|                0.5|\n|Cycling Mountain ...|    38|  38|   76|                0.5|                0.5|\n|        Cycling Road|    70| 131|  201| 0.3482587064676617| 0.6517412935323383|\n|       Cycling Track|    90|  99|  189|0.47619047619047616| 0.5238095238095238|\n|              Diving|    72|  71|  143| 0.5034965034965035| 0.4965034965034965|\n|          Equestrian|    73| 125|  198| 0.3686868686868687| 0.6313131313131313|\n|             Fencing|   107| 108|  215|0.49767441860465117| 0.5023255813953489|\n+--------------------+------+----+-----+-------------------+-------------------+\nonly showing top 20 rows\n\n"
     ]
    }
   ],
   "source": [
    "# Calculate the average number of entries by gender for each discipline\n",
    "average_entries_by_gender = entriesgender.withColumn(\n",
    "    'Avg_Female', entriesgender['Female'] / entriesgender['Total']\n",
    ").withColumn(\n",
    "    'Avg_Male', entriesgender['Male'] / entriesgender['Total']\n",
    ")\n",
    "average_entries_by_gender.show()"
   ]
  },
  {
   "cell_type": "code",
   "execution_count": 0,
   "metadata": {
    "application/vnd.databricks.v1+cell": {
     "cellMetadata": {
      "byteLimit": 2048000,
      "rowLimit": 10000
     },
     "inputWidgets": {},
     "nuid": "85cdd651-d887-4fe7-94c0-aa11fd8ff83b",
     "showTitle": false,
     "title": ""
    }
   },
   "outputs": [
    {
     "output_type": "stream",
     "name": "stdout",
     "output_type": "stream",
     "text": [
      "+-----------------+-----+\n|         TeamName|count|\n+-----------------+-----+\n|            Japan|   45|\n|    United States|   43|\n|            Italy|   34|\n|           France|   32|\n|          Germany|   32|\n|        Australia|   32|\n|              ROC|   31|\n|            China|   30|\n|    Great Britain|   28|\n|           Canada|   27|\n|      Netherlands|   24|\n|           Brazil|   21|\n|           Poland|   19|\n|            Spain|   18|\n|Republic of Korea|   17|\n|      New Zealand|   13|\n|          Hungary|   13|\n|     South Africa|   12|\n|            Egypt|   11|\n|          Belgium|   10|\n+-----------------+-----+\nonly showing top 20 rows\n\n"
     ]
    }
   ],
   "source": [
    "from pyspark.sql.functions import col\n",
    "from pyspark.sql.types import IntegerType, DoubleType, BooleanType, DateType\n",
    "#teams.show(20)\n",
    "teams_by_country_df=teams.groupBy(col(\"TeamName\")).count().orderBy(\"count\",ascending=False)\n",
    "teams_by_country_df.show()"
   ]
  },
  {
   "cell_type": "code",
   "execution_count": 0,
   "metadata": {
    "application/vnd.databricks.v1+cell": {
     "cellMetadata": {
      "byteLimit": 2048000,
      "rowLimit": 10000
     },
     "inputWidgets": {},
     "nuid": "6722d97e-9e4c-400d-9739-1b0f87dd90e3",
     "showTitle": false,
     "title": ""
    }
   },
   "outputs": [
    {
     "output_type": "stream",
     "name": "stdout",
     "output_type": "stream",
     "text": [
      "+-------------+--------------+--------------------+------------+\n|     TeamName|    Discipline|             Country|       Event|\n+-------------+--------------+--------------------+------------+\n|      Belgium|3x3 Basketball|             Belgium|         Men|\n|        China|3x3 Basketball|People's Republic...|         Men|\n|        China|3x3 Basketball|People's Republic...|       Women|\n|       France|3x3 Basketball|              France|       Women|\n|        Italy|3x3 Basketball|               Italy|       Women|\n|        Japan|3x3 Basketball|               Japan|         Men|\n|        Japan|3x3 Basketball|               Japan|       Women|\n|       Latvia|3x3 Basketball|              Latvia|         Men|\n|     Mongolia|3x3 Basketball|            Mongolia|       Women|\n|  Netherlands|3x3 Basketball|         Netherlands|         Men|\n|       Poland|3x3 Basketball|              Poland|         Men|\n|          ROC|3x3 Basketball|                 ROC|         Men|\n|          ROC|3x3 Basketball|                 ROC|       Women|\n|      Romania|3x3 Basketball|             Romania|       Women|\n|       Serbia|3x3 Basketball|              Serbia|         Men|\n|United States|3x3 Basketball|United States of ...|       Women|\n|    Australia|       Archery|           Australia|  Men's Team|\n|    Australia|       Archery|           Australia|  Mixed Team|\n|   Bangladesh|       Archery|          Bangladesh|  Mixed Team|\n|      Belarus|       Archery|             Belarus|Women's Team|\n+-------------+--------------+--------------------+------------+\nonly showing top 20 rows\n\n+--------------+----------+-----+\n|      TeamName|     Event|count|\n+--------------+----------+-----+\n|         Japan|     Women|    8|\n|         Japan|       Men|    8|\n|         China|     Women|    7|\n| United States|     Women|    6|\n|     Argentina|       Men|    6|\n|           ROC|     Women|    5|\n|     Australia|     Women|    5|\n|     Australia|       Men|    5|\n|         Spain|       Men|    5|\n| United States|       Men|    4|\n|       Germany|       Men|    4|\n|         Spain|     Women|    4|\n|        Brazil|     Women|    4|\n|        Canada|     Women|    4|\n|        France|     Women|    4|\n|  South Africa|       Men|    4|\n|        France|       Men|    4|\n|   Netherlands|     Women|    4|\n|Chinese Taipei|Men's Team|    3|\n|        Brazil|       Men|    3|\n+--------------+----------+-----+\nonly showing top 20 rows\n\n"
     ]
    }
   ],
   "source": [
    "teams.show(20)\n",
    "teams_by_country_nd_Event_df=teams.groupBy(\"TeamName\",\"Event\").count().select(\"TeamName\",\"Event\",\"count\").orderBy(\"count\",ascending=False)\n",
    "teams_by_country_nd_Event_df.show()"
   ]
  },
  {
   "cell_type": "code",
   "execution_count": 0,
   "metadata": {
    "application/vnd.databricks.v1+cell": {
     "cellMetadata": {
      "byteLimit": 2048000,
      "rowLimit": 10000
     },
     "inputWidgets": {},
     "nuid": "5e0d3de7-2591-4930-b318-ee5fe5f6fced",
     "showTitle": false,
     "title": ""
    }
   },
   "outputs": [
    {
     "output_type": "display_data",
     "data": {
      "text/html": [
       "<style scoped>\n",
       "  .table-result-container {\n",
       "    max-height: 300px;\n",
       "    overflow: auto;\n",
       "  }\n",
       "  table, th, td {\n",
       "    border: 1px solid black;\n",
       "    border-collapse: collapse;\n",
       "  }\n",
       "  th, td {\n",
       "    padding: 5px;\n",
       "  }\n",
       "  th {\n",
       "    text-align: left;\n",
       "  }\n",
       "</style><div class='table-result-container'><table class='table-result'><thead style='background-color: white'><tr><th>TeamName</th><th>Men</th><th>Women</th></tr></thead><tbody><tr><td>Japan</td><td>8</td><td>8</td></tr><tr><td>Argentina</td><td>6</td><td>2</td></tr><tr><td>Spain</td><td>5</td><td>4</td></tr><tr><td>Australia</td><td>5</td><td>5</td></tr><tr><td>Germany</td><td>4</td><td>1</td></tr><tr><td>France</td><td>4</td><td>4</td></tr><tr><td>United States</td><td>4</td><td>6</td></tr><tr><td>South Africa</td><td>4</td><td>2</td></tr><tr><td>Italy</td><td>3</td><td>2</td></tr><tr><td>Canada</td><td>3</td><td>4</td></tr><tr><td>Brazil</td><td>3</td><td>4</td></tr><tr><td>New Zealand</td><td>3</td><td>3</td></tr><tr><td>Republic of Korea</td><td>2</td><td>3</td></tr><tr><td>Belgium</td><td>2</td><td>1</td></tr><tr><td>Great Britain</td><td>2</td><td>3</td></tr><tr><td>Islamic Rep. of Iran</td><td>2</td><td>null</td></tr><tr><td>Poland</td><td>2</td><td>null</td></tr><tr><td>Egypt</td><td>2</td><td>null</td></tr><tr><td>Serbia</td><td>2</td><td>2</td></tr><tr><td>ROC</td><td>2</td><td>5</td></tr><tr><td>Netherlands</td><td>2</td><td>4</td></tr><tr><td>Kantor/Losiak</td><td>1</td><td>null</td></tr><tr><td>Sweden</td><td>1</td><td>2</td></tr><tr><td>Gaxiola/Rubio</td><td>1</td><td>null</td></tr><tr><td>Lucena/Dalhausser</td><td>1</td><td>null</td></tr><tr><td>Fiji</td><td>1</td><td>1</td></tr><tr><td>Mol A./Sorum C.</td><td>1</td><td>null</td></tr><tr><td>Bryl/Fijalek</td><td>1</td><td>null</td></tr><tr><td>Greece</td><td>1</td><td>null</td></tr><tr><td>C�te d�Ivoire</td><td>1</td><td>null</td></tr><tr><td>Brouwer/Meeuwsen</td><td>1</td><td>null</td></tr><tr><td>China</td><td>1</td><td>7</td></tr><tr><td>India</td><td>1</td><td>1</td></tr><tr><td>Thole J./Wickler</td><td>1</td><td>null</td></tr><tr><td>Croatia</td><td>1</td><td>null</td></tr><tr><td>Nigeria</td><td>1</td><td>1</td></tr><tr><td>Leshukov/Semenov</td><td>1</td><td>null</td></tr><tr><td>Azaad/Capogrosso</td><td>1</td><td>null</td></tr><tr><td>Perusic/Schweiner</td><td>1</td><td>null</td></tr><tr><td>Norway</td><td>1</td><td>1</td></tr><tr><td>Denmark</td><td>1</td><td>null</td></tr><tr><td>Ireland</td><td>1</td><td>1</td></tr><tr><td>Venezuela</td><td>1</td><td>null</td></tr><tr><td>Alison/Alvaro Filho</td><td>1</td><td>null</td></tr><tr><td>Abicha/Elgraoui</td><td>1</td><td>null</td></tr><tr><td>Mexico</td><td>1</td><td>null</td></tr><tr><td>Montenegro</td><td>1</td><td>1</td></tr><tr><td>Tunisia</td><td>1</td><td>null</td></tr><tr><td>Honduras</td><td>1</td><td>null</td></tr><tr><td>Gibb/Bourne</td><td>1</td><td>null</td></tr><tr><td>Nicolai/Lupo</td><td>1</td><td>null</td></tr><tr><td>Saudi Arabia</td><td>1</td><td>null</td></tr><tr><td>McHugh/Schumann</td><td>1</td><td>null</td></tr><tr><td>Grimalt M./Grimalt E.</td><td>1</td><td>null</td></tr><tr><td>Heidrich/Gerson</td><td>1</td><td>null</td></tr><tr><td>Latvia</td><td>1</td><td>null</td></tr><tr><td>Evandro/Bruno Schmidt</td><td>1</td><td>null</td></tr><tr><td>Cherif/Ahmed</td><td>1</td><td>null</td></tr><tr><td>Czech Republic</td><td>1</td><td>null</td></tr><tr><td>Gottsu/Shiratori</td><td>1</td><td>null</td></tr><tr><td>Kenya</td><td>1</td><td>2</td></tr><tr><td>Slovenia</td><td>1</td><td>null</td></tr><tr><td>Krasilnikov/Stoyanovskiy</td><td>1</td><td>null</td></tr><tr><td>Plavins/Tocs</td><td>1</td><td>null</td></tr><tr><td>Carambula/Rossi</td><td>1</td><td>null</td></tr><tr><td>Portugal</td><td>1</td><td>null</td></tr><tr><td>Romania</td><td>1</td><td>1</td></tr><tr><td>Kazakhstan</td><td>1</td><td>null</td></tr><tr><td>Bahrain</td><td>1</td><td>null</td></tr><tr><td>Hungary</td><td>1</td><td>2</td></tr><tr><td>Herrera/Gavira</td><td>1</td><td>null</td></tr><tr><td>Graudina/Kravcenoka</td><td>null</td><td>1</td></tr><tr><td>Rep. of Moldova</td><td>null</td><td>null</td></tr><tr><td>Pavan/Melissa</td><td>null</td><td>1</td></tr><tr><td>Huberli/Betschart</td><td>null</td><td>1</td></tr><tr><td>Keizer/Meppelink</td><td>null</td><td>1</td></tr><tr><td>Chinese Taipei</td><td>null</td><td>null</td></tr><tr><td>Wang/X.Y.Xia</td><td>null</td><td>1</td></tr><tr><td>Makroguzova/Kholomina</td><td>null</td><td>1</td></tr><tr><td>Singapore</td><td>null</td><td>null</td></tr><tr><td>Malaysia</td><td>null</td><td>null</td></tr><tr><td>Turkey</td><td>null</td><td>1</td></tr><tr><td>SZUDI Adam / PERGEL Szandra</td><td>null</td><td>null</td></tr><tr><td>WANG Zhen / ZHANG Mo</td><td>null</td><td>null</td></tr><tr><td>WONG Chun Ting / DOO Hoi Kem</td><td>null</td><td>null</td></tr><tr><td>PISTEJ Lubomir / BALAZOVA Barbora</td><td>null</td><td>null</td></tr><tr><td>Hong Kong, China</td><td>null</td><td>null</td></tr><tr><td>Angola</td><td>null</td><td>1</td></tr><tr><td>Ecuador</td><td>null</td><td>null</td></tr><tr><td>Hermannova/Slukova</td><td>null</td><td>1</td></tr><tr><td>Artacho Del Solar/Clancy</td><td>null</td><td>1</td></tr><tr><td>CAMPOS Jorge / FONSECA Daniela</td><td>null</td><td>null</td></tr><tr><td>Ghana</td><td>null</td><td>null</td></tr><tr><td>Bahamas</td><td>null</td><td>null</td></tr><tr><td>Belarus</td><td>null</td><td>null</td></tr><tr><td>Puerto Rico</td><td>null</td><td>1</td></tr><tr><td>Chile</td><td>null</td><td>1</td></tr><tr><td>LEE Sangsu / JEON Jihee</td><td>null</td><td>null</td></tr><tr><td>Verge-Depre, A./Heidrich</td><td>null</td><td>1</td></tr><tr><td>Xue/Wang X.X.</td><td>null</td><td>1</td></tr><tr><td>FRANZISKA Patrick / SOLJA Petrissa</td><td>null</td><td>null</td></tr><tr><td>Lithuania</td><td>null</td><td>null</td></tr><tr><td>Cuba</td><td>null</td><td>null</td></tr><tr><td>Bansley/Brandie</td><td>null</td><td>1</td></tr><tr><td>Bangladesh</td><td>null</td><td>null</td></tr><tr><td>Liechtenstein</td><td>null</td><td>null</td></tr><tr><td>Liliana/Elsa</td><td>null</td><td>1</td></tr><tr><td>Ukraine</td><td>null</td><td>null</td></tr><tr><td>Israel</td><td>null</td><td>null</td></tr><tr><td>ASSAR Omar / MESHREF Dina</td><td>null</td><td>null</td></tr><tr><td>Lidy/Leila</td><td>null</td><td>1</td></tr><tr><td>ACHANTA Kamal / BATRA Manika</td><td>null</td><td>null</td></tr><tr><td>IONESCU Ovidiu / SZOCS Bernadette</td><td>null</td><td>null</td></tr><tr><td>Estonia</td><td>null</td><td>null</td></tr><tr><td>Indonesia</td><td>null</td><td>null</td></tr><tr><td>HU Heming / TAPPER Melissa</td><td>null</td><td>null</td></tr><tr><td>Mongolia</td><td>null</td><td>1</td></tr><tr><td>Azerbaijan</td><td>null</td><td>null</td></tr><tr><td>Dominican Rep.</td><td>null</td><td>1</td></tr><tr><td>Makokha/Khadambi</td><td>null</td><td>1</td></tr><tr><td>MIZUTANI Jun / ITO Mima</td><td>null</td><td>null</td></tr><tr><td>Sude/Borger</td><td>null</td><td>1</td></tr><tr><td>Switzerland</td><td>null</td><td>null</td></tr><tr><td>Gallay/Pereyra</td><td>null</td><td>1</td></tr><tr><td>Zambia</td><td>null</td><td>1</td></tr><tr><td>Jamaica</td><td>null</td><td>null</td></tr><tr><td>Claes/Sponcil</td><td>null</td><td>1</td></tr><tr><td>LIN Yun Ju / CHENG I Ching</td><td>null</td><td>null</td></tr><tr><td>Ludwig/Kozuch</td><td>null</td><td>1</td></tr><tr><td>Uzbekistan</td><td>null</td><td>null</td></tr><tr><td>Ishii/Murakami</td><td>null</td><td>1</td></tr><tr><td>Botswana</td><td>null</td><td>null</td></tr><tr><td>Agatha/Duda</td><td>null</td><td>1</td></tr><tr><td>Trinidad & Tobago</td><td>null</td><td>null</td></tr><tr><td>April/Alix</td><td>null</td><td>1</td></tr><tr><td>Ana Patricia/Rebecca</td><td>null</td><td>1</td></tr><tr><td>XU Xin / LIU Shiwen</td><td>null</td><td>null</td></tr><tr><td>Bulgaria</td><td>null</td><td>null</td></tr><tr><td>Austria</td><td>null</td><td>null</td></tr><tr><td>Korea</td><td>null</td><td>null</td></tr><tr><td>Colombia</td><td>null</td><td>null</td></tr><tr><td>FEGERL Stefan / POLCANOVA Sofia</td><td>null</td><td>null</td></tr><tr><td>Menegatti/Orsi Toth</td><td>null</td><td>1</td></tr><tr><td>LEBESSON Emmanuel / YUAN Jia Nan</td><td>null</td><td>null</td></tr><tr><td>Vietnam</td><td>null</td><td>null</td></tr><tr><td>Stam/Schoon</td><td>null</td><td>1</td></tr></tbody></table></div>"
      ]
     },
     "metadata": {
      "application/vnd.databricks.v1+output": {
       "addedWidgets": {},
       "aggData": [],
       "aggError": "",
       "aggOverflow": false,
       "aggSchema": [],
       "aggSeriesLimitReached": false,
       "aggType": "",
       "arguments": {},
       "columnCustomDisplayInfos": {},
       "data": [
        [
         "Japan",
         8,
         8
        ],
        [
         "Argentina",
         6,
         2
        ],
        [
         "Spain",
         5,
         4
        ],
        [
         "Australia",
         5,
         5
        ],
        [
         "Germany",
         4,
         1
        ],
        [
         "France",
         4,
         4
        ],
        [
         "United States",
         4,
         6
        ],
        [
         "South Africa",
         4,
         2
        ],
        [
         "Italy",
         3,
         2
        ],
        [
         "Canada",
         3,
         4
        ],
        [
         "Brazil",
         3,
         4
        ],
        [
         "New Zealand",
         3,
         3
        ],
        [
         "Republic of Korea",
         2,
         3
        ],
        [
         "Belgium",
         2,
         1
        ],
        [
         "Great Britain",
         2,
         3
        ],
        [
         "Islamic Rep. of Iran",
         2,
         null
        ],
        [
         "Poland",
         2,
         null
        ],
        [
         "Egypt",
         2,
         null
        ],
        [
         "Serbia",
         2,
         2
        ],
        [
         "ROC",
         2,
         5
        ],
        [
         "Netherlands",
         2,
         4
        ],
        [
         "Kantor/Losiak",
         1,
         null
        ],
        [
         "Sweden",
         1,
         2
        ],
        [
         "Gaxiola/Rubio",
         1,
         null
        ],
        [
         "Lucena/Dalhausser",
         1,
         null
        ],
        [
         "Fiji",
         1,
         1
        ],
        [
         "Mol A./Sorum C.",
         1,
         null
        ],
        [
         "Bryl/Fijalek",
         1,
         null
        ],
        [
         "Greece",
         1,
         null
        ],
        [
         "C�te d�Ivoire",
         1,
         null
        ],
        [
         "Brouwer/Meeuwsen",
         1,
         null
        ],
        [
         "China",
         1,
         7
        ],
        [
         "India",
         1,
         1
        ],
        [
         "Thole J./Wickler",
         1,
         null
        ],
        [
         "Croatia",
         1,
         null
        ],
        [
         "Nigeria",
         1,
         1
        ],
        [
         "Leshukov/Semenov",
         1,
         null
        ],
        [
         "Azaad/Capogrosso",
         1,
         null
        ],
        [
         "Perusic/Schweiner",
         1,
         null
        ],
        [
         "Norway",
         1,
         1
        ],
        [
         "Denmark",
         1,
         null
        ],
        [
         "Ireland",
         1,
         1
        ],
        [
         "Venezuela",
         1,
         null
        ],
        [
         "Alison/Alvaro Filho",
         1,
         null
        ],
        [
         "Abicha/Elgraoui",
         1,
         null
        ],
        [
         "Mexico",
         1,
         null
        ],
        [
         "Montenegro",
         1,
         1
        ],
        [
         "Tunisia",
         1,
         null
        ],
        [
         "Honduras",
         1,
         null
        ],
        [
         "Gibb/Bourne",
         1,
         null
        ],
        [
         "Nicolai/Lupo",
         1,
         null
        ],
        [
         "Saudi Arabia",
         1,
         null
        ],
        [
         "McHugh/Schumann",
         1,
         null
        ],
        [
         "Grimalt M./Grimalt E.",
         1,
         null
        ],
        [
         "Heidrich/Gerson",
         1,
         null
        ],
        [
         "Latvia",
         1,
         null
        ],
        [
         "Evandro/Bruno Schmidt",
         1,
         null
        ],
        [
         "Cherif/Ahmed",
         1,
         null
        ],
        [
         "Czech Republic",
         1,
         null
        ],
        [
         "Gottsu/Shiratori",
         1,
         null
        ],
        [
         "Kenya",
         1,
         2
        ],
        [
         "Slovenia",
         1,
         null
        ],
        [
         "Krasilnikov/Stoyanovskiy",
         1,
         null
        ],
        [
         "Plavins/Tocs",
         1,
         null
        ],
        [
         "Carambula/Rossi",
         1,
         null
        ],
        [
         "Portugal",
         1,
         null
        ],
        [
         "Romania",
         1,
         1
        ],
        [
         "Kazakhstan",
         1,
         null
        ],
        [
         "Bahrain",
         1,
         null
        ],
        [
         "Hungary",
         1,
         2
        ],
        [
         "Herrera/Gavira",
         1,
         null
        ],
        [
         "Graudina/Kravcenoka",
         null,
         1
        ],
        [
         "Rep. of Moldova",
         null,
         null
        ],
        [
         "Pavan/Melissa",
         null,
         1
        ],
        [
         "Huberli/Betschart",
         null,
         1
        ],
        [
         "Keizer/Meppelink",
         null,
         1
        ],
        [
         "Chinese Taipei",
         null,
         null
        ],
        [
         "Wang/X.Y.Xia",
         null,
         1
        ],
        [
         "Makroguzova/Kholomina",
         null,
         1
        ],
        [
         "Singapore",
         null,
         null
        ],
        [
         "Malaysia",
         null,
         null
        ],
        [
         "Turkey",
         null,
         1
        ],
        [
         "SZUDI Adam / PERGEL Szandra",
         null,
         null
        ],
        [
         "WANG Zhen / ZHANG Mo",
         null,
         null
        ],
        [
         "WONG Chun Ting / DOO Hoi Kem",
         null,
         null
        ],
        [
         "PISTEJ Lubomir / BALAZOVA Barbora",
         null,
         null
        ],
        [
         "Hong Kong, China",
         null,
         null
        ],
        [
         "Angola",
         null,
         1
        ],
        [
         "Ecuador",
         null,
         null
        ],
        [
         "Hermannova/Slukova",
         null,
         1
        ],
        [
         "Artacho Del Solar/Clancy",
         null,
         1
        ],
        [
         "CAMPOS Jorge / FONSECA Daniela",
         null,
         null
        ],
        [
         "Ghana",
         null,
         null
        ],
        [
         "Bahamas",
         null,
         null
        ],
        [
         "Belarus",
         null,
         null
        ],
        [
         "Puerto Rico",
         null,
         1
        ],
        [
         "Chile",
         null,
         1
        ],
        [
         "LEE Sangsu / JEON Jihee",
         null,
         null
        ],
        [
         "Verge-Depre, A./Heidrich",
         null,
         1
        ],
        [
         "Xue/Wang X.X.",
         null,
         1
        ],
        [
         "FRANZISKA Patrick / SOLJA Petrissa",
         null,
         null
        ],
        [
         "Lithuania",
         null,
         null
        ],
        [
         "Cuba",
         null,
         null
        ],
        [
         "Bansley/Brandie",
         null,
         1
        ],
        [
         "Bangladesh",
         null,
         null
        ],
        [
         "Liechtenstein",
         null,
         null
        ],
        [
         "Liliana/Elsa",
         null,
         1
        ],
        [
         "Ukraine",
         null,
         null
        ],
        [
         "Israel",
         null,
         null
        ],
        [
         "ASSAR Omar / MESHREF Dina",
         null,
         null
        ],
        [
         "Lidy/Leila",
         null,
         1
        ],
        [
         "ACHANTA Kamal / BATRA Manika",
         null,
         null
        ],
        [
         "IONESCU Ovidiu / SZOCS Bernadette",
         null,
         null
        ],
        [
         "Estonia",
         null,
         null
        ],
        [
         "Indonesia",
         null,
         null
        ],
        [
         "HU Heming / TAPPER Melissa",
         null,
         null
        ],
        [
         "Mongolia",
         null,
         1
        ],
        [
         "Azerbaijan",
         null,
         null
        ],
        [
         "Dominican Rep.",
         null,
         1
        ],
        [
         "Makokha/Khadambi",
         null,
         1
        ],
        [
         "MIZUTANI Jun / ITO Mima",
         null,
         null
        ],
        [
         "Sude/Borger",
         null,
         1
        ],
        [
         "Switzerland",
         null,
         null
        ],
        [
         "Gallay/Pereyra",
         null,
         1
        ],
        [
         "Zambia",
         null,
         1
        ],
        [
         "Jamaica",
         null,
         null
        ],
        [
         "Claes/Sponcil",
         null,
         1
        ],
        [
         "LIN Yun Ju / CHENG I Ching",
         null,
         null
        ],
        [
         "Ludwig/Kozuch",
         null,
         1
        ],
        [
         "Uzbekistan",
         null,
         null
        ],
        [
         "Ishii/Murakami",
         null,
         1
        ],
        [
         "Botswana",
         null,
         null
        ],
        [
         "Agatha/Duda",
         null,
         1
        ],
        [
         "Trinidad & Tobago",
         null,
         null
        ],
        [
         "April/Alix",
         null,
         1
        ],
        [
         "Ana Patricia/Rebecca",
         null,
         1
        ],
        [
         "XU Xin / LIU Shiwen",
         null,
         null
        ],
        [
         "Bulgaria",
         null,
         null
        ],
        [
         "Austria",
         null,
         null
        ],
        [
         "Korea",
         null,
         null
        ],
        [
         "Colombia",
         null,
         null
        ],
        [
         "FEGERL Stefan / POLCANOVA Sofia",
         null,
         null
        ],
        [
         "Menegatti/Orsi Toth",
         null,
         1
        ],
        [
         "LEBESSON Emmanuel / YUAN Jia Nan",
         null,
         null
        ],
        [
         "Vietnam",
         null,
         null
        ],
        [
         "Stam/Schoon",
         null,
         1
        ]
       ],
       "datasetInfos": [],
       "dbfsResultPath": null,
       "isJsonSchema": true,
       "metadata": {},
       "overflow": false,
       "plotOptions": {
        "customPlotOptions": {},
        "displayType": "table",
        "pivotAggregation": null,
        "pivotColumns": null,
        "xColumns": null,
        "yColumns": null
       },
       "removedWidgets": [],
       "schema": [
        {
         "metadata": "{}",
         "name": "TeamName",
         "type": "\"string\""
        },
        {
         "metadata": "{}",
         "name": "Men",
         "type": "\"long\""
        },
        {
         "metadata": "{}",
         "name": "Women",
         "type": "\"long\""
        }
       ],
       "type": "table"
      }
     },
     "output_type": "display_data"
    }
   ],
   "source": [
    "teams_by_country_nd_Event_df_gender = teams_by_country_nd_Event_df.groupBy(\"TeamName\").pivot(\"Event\").sum(\"count\").select(\"TeamName\",\"Men\",\"Women\").orderBy(\"Men\",ascending=False)\n",
    "\n",
    "display(teams_by_country_nd_Event_df_gender)"
   ]
  },
  {
   "cell_type": "code",
   "execution_count": 0,
   "metadata": {
    "application/vnd.databricks.v1+cell": {
     "cellMetadata": {
      "byteLimit": 2048000,
      "rowLimit": 10000
     },
     "inputWidgets": {},
     "nuid": "8d48f65a-c781-40de-909d-5baba6fa6f13",
     "showTitle": false,
     "title": ""
    }
   },
   "outputs": [
    {
     "output_type": "stream",
     "name": "stdout",
     "output_type": "stream",
     "text": [
      "+--------------------+--------------------+-----------------+--------+\n|                Name|             Country|       Discipline|   Event|\n+--------------------+--------------------+-----------------+--------+\n|     ABDELMAGID Wael|               Egypt|         Football|    null|\n|           ABE Junya|               Japan|       Volleyball|    null|\n|       ABE Katsuhiko|               Japan|       Basketball|    null|\n|        ADAMA Cherif|       C�te d'Ivoire|         Football|    null|\n|          AGEBA Yuya|               Japan|       Volleyball|    null|\n|AIKMAN Siegfried ...|               Japan|           Hockey|     Men|\n|       AL SAADI Kais|             Germany|           Hockey|     Men|\n|       ALAMEDA Lonni|              Canada|Baseball/Softball|Softball|\n|     ALEKNO Vladimir|Islamic Republic ...|       Volleyball|     Men|\n|     ALEKSEEV Alexey|                 ROC|         Handball|   Women|\n+--------------------+--------------------+-----------------+--------+\nonly showing top 10 rows\n\n+--------------------+-----------------+-----+\n|             Country|       Discipline|count|\n+--------------------+-----------------+-----+\n|              Zambia|         Football|    2|\n|           Venezuela|       Volleyball|    4|\n|           Venezuela|       Basketball|    6|\n|United States of ...|       Water Polo|    2|\n|United States of ...|       Volleyball|    5|\n|United States of ...|     Rugby Sevens|    2|\n|United States of ...|         Football|    3|\n|United States of ...|       Basketball|    9|\n|United States of ...|Baseball/Softball|    6|\n|United States of ...|Artistic Swimming|    1|\n|             Ukraine|Artistic Swimming|    4|\n|              Turkey|       Volleyball|    1|\n|             Tunisia|       Volleyball|    1|\n|              Sweden|         Handball|    2|\n|              Sweden|         Football|    1|\n|               Spain|       Water Polo|    2|\n|               Spain|           Hockey|    2|\n|               Spain|         Handball|    2|\n|               Spain|         Football|    4|\n|               Spain|       Basketball|   10|\n+--------------------+-----------------+-----+\nonly showing top 20 rows\n\n"
     ]
    }
   ],
   "source": [
    "coaches.show(10)\n",
    "coaches_by_country_discipline=coaches.groupBy(\"Country\",\"Discipline\").count().select(\"Country\",\"Discipline\",\"count\").orderBy([\"Country\",\"Discipline\"],ascending=False)\n",
    "coaches_by_country_discipline.show()"
   ]
  },
  {
   "cell_type": "code",
   "execution_count": 0,
   "metadata": {
    "application/vnd.databricks.v1+cell": {
     "cellMetadata": {
      "byteLimit": 2048000,
      "rowLimit": 10000
     },
     "inputWidgets": {},
     "nuid": "bf0205d2-4953-4670-87c0-6f98c35afa0c",
     "showTitle": false,
     "title": ""
    }
   },
   "outputs": [
    {
     "output_type": "stream",
     "name": "stdout",
     "output_type": "stream",
     "text": [
      "root\n |-- PersonName: string (nullable = true)\n |-- Country: string (nullable = true)\n |-- Discipline: string (nullable = true)\n\n+-----------------+--------------------+-------------------+\n|       PersonName|             Country|         Discipline|\n+-----------------+--------------------+-------------------+\n|  AALERUD Katrine|              Norway|       Cycling Road|\n|      ABAD Nestor|               Spain|Artistic Gymnastics|\n|ABAGNALE Giovanni|               Italy|             Rowing|\n|   ABALDE Alberto|               Spain|         Basketball|\n|    ABALDE Tamara|               Spain|         Basketball|\n|        ABALO Luc|              France|           Handball|\n|     ABAROA Cesar|               Chile|             Rowing|\n|    ABASS Abobakr|               Sudan|           Swimming|\n| ABBASALI Hamideh|Islamic Republic ...|             Karate|\n|    ABBASOV Islam|          Azerbaijan|          Wrestling|\n+-----------------+--------------------+-------------------+\nonly showing top 10 rows\n\n+--------------------+-----+\n|             Country|count|\n+--------------------+-----+\n|United States of ...|  615|\n|               Japan|  586|\n|           Australia|  470|\n|People's Republic...|  401|\n|             Germany|  400|\n|              France|  377|\n|              Canada|  368|\n|       Great Britain|  366|\n|               Italy|  356|\n|               Spain|  324|\n|                 ROC|  318|\n|              Brazil|  291|\n|         Netherlands|  274|\n|   Republic of Korea|  223|\n|         New Zealand|  202|\n|              Poland|  195|\n|           Argentina|  180|\n|        South Africa|  171|\n|              Mexico|  155|\n|             Hungary|  155|\n+--------------------+-----+\nonly showing top 20 rows\n\n"
     ]
    }
   ],
   "source": [
    "athletes.printSchema()\n",
    "athletes.show(10)\n",
    "athletes_by_country_cnt=athletes.groupBy(\"Country\").count().orderBy(\"Count\",ascending=False)\n",
    "athletes_by_country_cnt.show()"
   ]
  },
  {
   "cell_type": "code",
   "execution_count": 0,
   "metadata": {
    "application/vnd.databricks.v1+cell": {
     "cellMetadata": {
      "byteLimit": 2048000,
      "rowLimit": 10000
     },
     "inputWidgets": {},
     "nuid": "b8b5addc-31ac-4283-8824-5bb4a0c36dce",
     "showTitle": false,
     "title": ""
    }
   },
   "outputs": [
    {
     "output_type": "display_data",
     "data": {
      "text/html": [
       "<style scoped>\n",
       "  .table-result-container {\n",
       "    max-height: 300px;\n",
       "    overflow: auto;\n",
       "  }\n",
       "  table, th, td {\n",
       "    border: 1px solid black;\n",
       "    border-collapse: collapse;\n",
       "  }\n",
       "  th, td {\n",
       "    padding: 5px;\n",
       "  }\n",
       "  th {\n",
       "    text-align: left;\n",
       "  }\n",
       "</style><div class='table-result-container'><table class='table-result'><thead style='background-color: white'><tr><th>path</th><th>name</th><th>size</th><th>modificationTime</th></tr></thead><tbody><tr><td>dbfs:/mnt/tokyoolymic/transformed-data/athletes_by_country_cnt/</td><td>athletes_by_country_cnt/</td><td>0</td><td>0</td></tr><tr><td>dbfs:/mnt/tokyoolymic/transformed-data/average_entries_by_gender/</td><td>average_entries_by_gender/</td><td>0</td><td>0</td></tr><tr><td>dbfs:/mnt/tokyoolymic/transformed-data/coaches_by_country_discipline/</td><td>coaches_by_country_discipline/</td><td>0</td><td>0</td></tr><tr><td>dbfs:/mnt/tokyoolymic/transformed-data/teams_by_country_df/</td><td>teams_by_country_df/</td><td>0</td><td>0</td></tr><tr><td>dbfs:/mnt/tokyoolymic/transformed-data/teams_by_country_nd_Event_df/</td><td>teams_by_country_nd_Event_df/</td><td>0</td><td>0</td></tr><tr><td>dbfs:/mnt/tokyoolymic/transformed-data/teams_by_country_nd_Event_df_gender/</td><td>teams_by_country_nd_Event_df_gender/</td><td>0</td><td>0</td></tr></tbody></table></div>"
      ]
     },
     "metadata": {
      "application/vnd.databricks.v1+output": {
       "addedWidgets": {},
       "aggData": [],
       "aggError": "",
       "aggOverflow": false,
       "aggSchema": [],
       "aggSeriesLimitReached": false,
       "aggType": "",
       "arguments": {},
       "columnCustomDisplayInfos": {},
       "data": [
        [
         "dbfs:/mnt/tokyoolymic/transformed-data/athletes_by_country_cnt/",
         "athletes_by_country_cnt/",
         0,
         0
        ],
        [
         "dbfs:/mnt/tokyoolymic/transformed-data/average_entries_by_gender/",
         "average_entries_by_gender/",
         0,
         0
        ],
        [
         "dbfs:/mnt/tokyoolymic/transformed-data/coaches_by_country_discipline/",
         "coaches_by_country_discipline/",
         0,
         0
        ],
        [
         "dbfs:/mnt/tokyoolymic/transformed-data/teams_by_country_df/",
         "teams_by_country_df/",
         0,
         0
        ],
        [
         "dbfs:/mnt/tokyoolymic/transformed-data/teams_by_country_nd_Event_df/",
         "teams_by_country_nd_Event_df/",
         0,
         0
        ],
        [
         "dbfs:/mnt/tokyoolymic/transformed-data/teams_by_country_nd_Event_df_gender/",
         "teams_by_country_nd_Event_df_gender/",
         0,
         0
        ]
       ],
       "datasetInfos": [],
       "dbfsResultPath": null,
       "isJsonSchema": true,
       "metadata": {
        "isDbfsCommandResult": false
       },
       "overflow": false,
       "plotOptions": {
        "customPlotOptions": {},
        "displayType": "table",
        "pivotAggregation": null,
        "pivotColumns": null,
        "xColumns": null,
        "yColumns": null
       },
       "removedWidgets": [],
       "schema": [
        {
         "metadata": "{}",
         "name": "path",
         "type": "\"string\""
        },
        {
         "metadata": "{}",
         "name": "name",
         "type": "\"string\""
        },
        {
         "metadata": "{}",
         "name": "size",
         "type": "\"long\""
        },
        {
         "metadata": "{}",
         "name": "modificationTime",
         "type": "\"long\""
        }
       ],
       "type": "table"
      }
     },
     "output_type": "display_data"
    }
   ],
   "source": [
    "%fs ls \"/mnt/tokyoolymic/transformed-data\""
   ]
  },
  {
   "cell_type": "code",
   "execution_count": 0,
   "metadata": {
    "application/vnd.databricks.v1+cell": {
     "cellMetadata": {
      "byteLimit": 2048000,
      "rowLimit": 10000
     },
     "inputWidgets": {},
     "nuid": "92ac8ef6-0cc9-47b1-ae73-c8116964567b",
     "showTitle": false,
     "title": ""
    }
   },
   "outputs": [],
   "source": [
    "average_entries_by_gender.write.mode(\"overwrite\").option(\"header\",\"true\").csv(\"/mnt/tokyo_olymic/transformed_layer/average_entries_by_gender\")\n",
    "teams_by_country_df.write.mode(\"overwrite\").option(\"header\",\"true\").csv(\"/mnt/tokyo_olymic/transformed_layer/teams_by_country_df\")\n",
    "teams_by_country_nd_Event_df.write.mode(\"overwrite\").option(\"header\",\"true\").csv(\"/mnt/tokyo_olymic/transformed_layer/teams_by_country_nd_Event_df\")\n",
    "teams_by_country_nd_Event_df_gender.write.mode(\"overwrite\").option(\"header\",\"true\").csv(\"/mnt/tokyo_olymic/transformed_layer/teams_by_country_nd_Event_df_gender\")\n",
    "coaches_by_country_discipline.write.mode(\"overwrite\").option(\"header\",\"true\").csv(\"/mnt/tokyo_olymic/transformed_layer/coaches_by_country_discipline\")\n",
    "athletes_by_country_cnt.write.mode(\"overwrite\").option(\"header\",\"true\").csv(\"/mnt/tokyo_olymic/transformed_layer/athletes_by_country_cnt\")"
   ]
  },
  {
   "cell_type": "code",
   "execution_count": 0,
   "metadata": {
    "application/vnd.databricks.v1+cell": {
     "cellMetadata": {},
     "inputWidgets": {},
     "nuid": "d254f13c-b6f3-4424-804e-d2149cff30ba",
     "showTitle": false,
     "title": ""
    }
   },
   "outputs": [],
   "source": [
    "coaches.repartition(1).write.mode(\"overwrite\").option(\"header\",\"true\").csv(\"/mnt/tokyoolymic/transformed-data/rawcoaches\")\n",
    "entriesgender.repartition(1).write.mode(\"overwrite\").option(\"header\",\"true\").csv(\"/mnt/tokyoolymic/transformed-data/rawentriesgender\")\n",
    "medals.repartition(1).write.mode(\"overwrite\").option(\"header\",\"true\").csv(\"/mnt/tokyoolymic/transformed-data/rawmedals\")\n",
    "teams.repartition(1).write.mode(\"overwrite\").option(\"header\",\"true\").csv(\"/mnt/tokyoolymic/transformed-data/rawteams\")\n",
    "     "
   ]
  }
 ],
 "metadata": {
  "application/vnd.databricks.v1+notebook": {
   "dashboards": [],
   "language": "python",
   "notebookMetadata": {
    "mostRecentlyExecutedCommandWithImplicitDF": {
     "commandId": 1753240559896961,
     "dataframes": [
      "_sqldf"
     ]
    },
    "pythonIndentUnit": 4
   },
   "notebookName": "Azure_Transformed_Data",
   "widgets": {}
  }
 },
 "nbformat": 4,
 "nbformat_minor": 0
}
